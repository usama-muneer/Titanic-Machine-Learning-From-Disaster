{
 "cells": [
  {
   "cell_type": "markdown",
   "metadata": {},
   "source": [
    "<img src = \"img/ITU.png\">\n",
    "<h1><center>Data Science Lab</center>\n",
    "<center>Information Technology University, Punjab</center>\n",
    "<center>Homework 2</center></h1>"
   ]
  },
  {
   "cell_type": "markdown",
   "metadata": {},
   "source": [
    "**-**\n",
    "<h3>Instructions:</h3>\n",
    "* The aim of this homework is to give you understanding of Data Science pipeline. \n",
    "* You need to submit a detailed notebook with suitable headings and comments. Do not submit an erroneous notebook.\n",
    "* **Please complete this assignment and submit the complete folder with it's name as your registration number i.e. \"MSDS18###.zip\" on Google Classroom.**\n",
    "* <font color='red'>This is a well drafted assignment, I hope that there would be no need for you to look for solutions on internet. Simply follow the instructions and you would be good to go.</font>\n",
    "**-**"
   ]
  },
  {
   "cell_type": "markdown",
   "metadata": {},
   "source": [
    "## Data Science Pipeline"
   ]
  },
  {
   "cell_type": "markdown",
   "metadata": {},
   "source": [
    "Data is a commodity, but without ways to process it, its value is questionable. Data science is a multidisciplinary field whose goal is to extract value from data in all its forms. This discussion aims to explore the field of data science through data and its structure as well as the high-level process that you can use to transform data into value.\n",
    "\n",
    "Data science is a process. That's not to say it's mechanical and void of creativity. But, when you dig into the stages of processing data, from munging data sources and data cleansing to machine learning and eventually visualization, you see that unique steps are involved in transforming raw data into insight.\n",
    "\n",
    "The steps that you use can also vary (see Figure 1). In exploratory data analysis, you might have a cleansed data set that's ready to import into Python, and you visualize your result but don't deploy the model in a production environment. In another environment, you might be dealing with real-world data and require a process of data merging and cleansing in addition to data scaling and preparation before you can train your machine learning model.\n",
    "\n",
    "<font color='blue'>Figure 1. The Data Science Pipeline</font>\n",
    "<img src=\"img/Figure01.png\">\n",
    "\n",
    "Let's start by digging into the elements of the data science pipeline to understand the process.\n",
    "\n",
    "<h3>Data and its Structure</h3>\n",
    "\n",
    "Data comes in many forms, but at a high level, it falls into three categories: structured, semi-structured, and unstructured (see Figure 2). Structured data is highly organized data that exists within a repository such as a database (or a comma-separated values [CSV] file). The data is easily accessible, and the format of the data makes it appropriate for queries and computation (by using languages such as Structured Query Language (SQL) or Apache™ Hive™). Unstructured data lacks any content structure at all (for example, an audio stream or natural language text). In the middle is semi-structure data, which can include metadata or data that can be more easily processed than unstructured data by using semantic tagging. This data is not fully structured because the lowest-level contents might still represent data that requires some processing to be useful.\n",
    "\n",
    "Figure 2. Models of data\n",
    "<img src=\"img/Figure02.png\">\n",
    "\n",
    "Structured data is the most useful form of data because it can be immediately manipulated. The rule-of-thumb is that structured data represents only 20% of total data. Most of the data in the world (80% of available data) is unstructured or semi-structured.\n",
    "\n",
    "Note that much of what is defined as unstructured data actually has structure (such as a document that has metadata and tags for the content), but the content itself lacks structure and is not immediately usable. Therefore, it is considered unstructured.\n",
    "\n",
    "<h3>Data Engineering</h3>\n",
    "\n",
    "A survey in 2016 found that data scientists spend 80% of their time collecting, cleaning, and preparing data for use in machine learning. The remaining 20% they spend mining or modeling data by using machine learning algorithms. Although it's the least enjoyable part of the process, this data engineering is important and has ramifications for the quality of the results from the machine learning phase.\n",
    "\n",
    "I split data engineering into three parts: wrangling, cleansing, and preparation. Given the drudgery that is involved in this phase, some call this process data munging.\n",
    "\n",
    "<h3>Data Wrangling</h3>\n",
    "\n",
    "Data wrangling, simply defined, is the process of manipulating raw data to make it useful for data analytics or to train a machine learning model. This part of data engineering can include sourcing the data from one or more data sets (in addition to reducing the set to the required data), normalizing the data so that data merged from multiple data sets is consistent, and parsing data into some structure or storage for further use. Consider a public data set from a federal open data website. This data might exist as a spreadsheet file that you would need to export into a format more acceptable to data science languages (CSV or JavaScript Object Notation). The data source might also be a website from which an automated tool scraped the data. Finally, the data could come from multiple sources, which requires that you choose a common format for the resulting data set.\n",
    "\n",
    "This resulting data set would likely require post-processing to support its import into an analytics application (such as the Anaconda Enviornment, the GNU Data Language, or Apache Hadoop). Data wrangling, then, is the process by which you identify, collect, merge, and preprocess one or more data sets in preparation for data cleansing.\n",
    "\n",
    "<h3>Data cleansing</h3>\n",
    "\n",
    "After you have collected and merged your data set, the next step is cleansing. Data sets in the wild are typically messy and infected with any number of common issues, including missing values (or too many values), bad or incorrect delimiters (which segregate the data), inconsistent records, or insufficient parameters. In some cases, the data cannot be repaired and so must be removed; in other cases, it can be manually or automatically corrected.\n",
    "\n",
    "When your data set is syntactically correct, the next step is to ensure that it is semantically correct. In a data set that contains numerical data, you'll have outliers that require closer inspection. You can discover these outliers through statistical analysis, looking at the mean and averages as well as the standard deviation. Searching for outliers is a secondary method of cleansing to ensure that the data is uniform and accurate.\n",
    "\n",
    "<h3>Data preparation</h3>\n",
    "\n",
    "The final step in data engineering is data preparation (or preprocessing). This step assumes that you have a cleansed data set that might not be ready for processing by a machine learning algorithm. Here are a couple of examples where this preparation could apply.\n",
    "\n",
    "In some cases, normalization of data can be useful. Using normalization, you transform an input feature to distribute the data evenly into an acceptable range for the machine learning algorithm. This task can be as simple as linear scaling (from an arbitrary range given a domain minimum and maximum from -1.0 to 1.0). You can also apply more complicated statistical approaches. Data normalization can help you avoid getting stuck in a local optima during the training process (in the context of neural networks).\n",
    "\n",
    "Another useful technique in data preparation is the conversion of categorical data into numerical values. Consider a data set that includes a set of symbols that represent a feature (such as {T0..T5}). As a string, this isn't useful as an input to a neural network, but you can transform it by using a one-of-K scheme (also known as one-hot encoding).\n",
    "\n",
    "In this scheme (illustrated in Figure 3), you identify the number of symbols for the feature — in this case, six — and then create six features to represent the original field. For each symbol, you set just one feature, which allows a proper representation of the distinct elements of the symbol. You pay the price in increased dimensionality, but in doing so, you provide a feature vector that works better for machine learning algorithms.\n",
    "\n",
    "Figure 3. Transforming a string into a one-hot vector\n",
    "<img src=\"img/Figure03.png\">\n",
    "An alternative is integer encoding (where T0 could be value 0, T1 value 1, and so on), but this approach can introduce problems in representation. For example, in a real-valued output, what does 0.5 represent?\n",
    "\n",
    "<h3>Machine learning</h3>\n",
    "\n",
    "In this phase, you create and validate a machine learning model. Sometimes, the machine learning model is the product, which is deployed in the context of an application to provide some capability (such as classification or prediction). In other cases, the machine learning algorithm is just a means to an end. In these cases, the product isn't the trained machine learning algorithm but rather the data that it produces.\n",
    "\n",
    "This section discusses the construction and validation of a machine learning model. You can learn more about machine learning from data in Gaining invaluable insight from clean data sets.\n",
    "\n",
    "<h3>Model learning</h3>\n",
    "\n",
    "The meat of the data science pipeline is the data processing step. In one model, the algorithm can process the data, with a new data product as the result. But, in a production sense, the machine learning model is the product itself, deployed to provide insight or add value (such as the deployment of a neural network to provide prediction capabilities for an insurance market).\n",
    "\n",
    "Machine learning approaches are vast and varied, as shown in Figure 4. This small list of machine learning algorithms (segregated by learning model) illustrates the richness of the capabilities that are provided through machine learning.\n",
    "\n",
    "Figure 4. Machine learning approaches\n",
    "<img src=\"img/Figure04.png\">\n",
    "\n",
    "Supervised learning, as the name suggests, is driven by a critic that provides the means to alter the model based on its result. Given a data set with a class (that is, a dependent variable), the algorithm is trained to produce the correct class and alter the model when it fails to do so. The model is trained until it reaches some level of accuracy, at which point you could deploy it to provide prediction for unseen data.\n",
    "\n",
    "In contrast, unsupervised learning has no class; instead, it inspects the data and groups it based on some structure that is hidden within the data. You could apply these types of algorithms in recommendation systems by grouping customers based on the viewing or purchasing history.\n",
    "\n",
    "Finally, reinforcement learning is a semi-supervised learning algorithm that provides a reward after the model makes some number of decisions that lead to a satisfactory result. This type of model is used to create agents that act rationally in some state/action space (such as a poker-playing agent).\n",
    "\n",
    "We would limit our scope to the above points and skip Model Validation and Model Deployment for now."
   ]
  },
  {
   "cell_type": "markdown",
   "metadata": {},
   "source": [
    "### Please read the above Text and Answer the Questions"
   ]
  },
  {
   "cell_type": "markdown",
   "metadata": {},
   "source": [
    "# **Please edit this cell and paste your answer here:**\n",
    "\n",
    "Example:\n",
    "Q 20) A\n",
    "\n",
    "Q 1) A\n",
    "\n",
    "Q 2) A\n",
    "\n",
    "Q 3) B\n",
    "\n",
    "Q 4) D\n",
    "\n",
    "Q 5) A\n",
    "\n",
    "Q 6) E\n",
    "\n",
    "Q 7) D\n",
    "\n",
    "Q 8) A\n",
    "\n",
    "Q 9) D\n",
    "\n",
    "Q 10) D\n",
    "\n",
    "Q 11) E"
   ]
  },
  {
   "cell_type": "markdown",
   "metadata": {},
   "source": [
    "##### Q 1) CSV file is an example of which type of data:\n",
    "> a) Structured Data\n",
    "<br>\n",
    "> b) Semi-Structured Data\n",
    "<br>\n",
    "> c) Unstructured Data\n",
    "<br>\n",
    "> d) Relational Data"
   ]
  },
  {
   "cell_type": "markdown",
   "metadata": {},
   "source": [
    "##### Q 2) Which of the following data can be queried using SQL or Hive.\n",
    "> a) Structured Data\n",
    "<br>\n",
    "> b) Semi-Structured Data\n",
    "<br>\n",
    "> c) Unstructured Data\n",
    "<br>\n",
    "> d) None"
   ]
  },
  {
   "cell_type": "markdown",
   "metadata": {},
   "source": [
    "Q 3) Semantic tagging is a technique used to easily process which data\n",
    "> a) Structured Data\n",
    "<br>\n",
    "> b) Semi-Structured Data\n",
    "<br>\n",
    "> c) Unstructured Data\n",
    "<br>\n",
    "> d) Relational Data"
   ]
  },
  {
   "cell_type": "markdown",
   "metadata": {},
   "source": [
    "##### Q 4) According to a survey in 2016, data scientists spend 20% of their time\n",
    "> a) Collecting Data\n",
    "<br>\n",
    "> b) Cleaning Data\n",
    "<br>\n",
    "> c) Preparing Data\n",
    "<br>\n",
    "> d) Modelling Data"
   ]
  },
  {
   "cell_type": "markdown",
   "metadata": {},
   "source": [
    "##### Q5) Process of manipulating raw data to make it useful for data analytics or to train a machine learning model is called\n",
    "> a) Data Wrangling\n",
    "<br>\n",
    "> b) Data Cleansing\n",
    "<br>\n",
    "> c) Data Preparation\n",
    "<br>\n",
    "> d) Data Modeling"
   ]
  },
  {
   "cell_type": "markdown",
   "metadata": {},
   "source": [
    "##### Q6) Which of the following are data cleaning issues?\n",
    "> a) Missing Values\n",
    "<br>\n",
    "> b) Incorrect Delimiters\n",
    "<br>\n",
    "> c) Inconsistent Records\n",
    "<br>\n",
    "> d) Outliers\n",
    "<br>\n",
    "> e) All of the mentioned"
   ]
  },
  {
   "cell_type": "markdown",
   "metadata": {},
   "source": [
    "##### Q7) Which of the following is a way to detect outliers.\n",
    "\n",
    "> a) Looking at mean and standard deviation\n",
    "<br>\n",
    "> b) Looking at distribution of data\n",
    "<br>\n",
    "> c) Plotting using Box Plot\n",
    "<br>\n",
    "> d) All of the mentioned"
   ]
  },
  {
   "cell_type": "markdown",
   "metadata": {},
   "source": [
    "##### Q 8) Transforming an input feature to distribute the data evenly into an acceptable range is called\n",
    "> a) Normalization\n",
    "<br>\n",
    "> b) Modelling\n",
    "<br>\n",
    "> c) Standardization\n",
    "<br>\n",
    "> d) One-Hot Encoding\n",
    "<br>\n",
    "> e) None of the mentioned "
   ]
  },
  {
   "cell_type": "markdown",
   "metadata": {},
   "source": [
    "##### Q 9) Transforming an input feature so that, it have zero mean and unit variance.\n",
    "> a) Normalization\n",
    "<br>\n",
    "> b) Modelling\n",
    "<br>\n",
    "> c) Scaling\n",
    "<br>\n",
    "> d) Standardization\n",
    "<br>\n",
    "> e) One-Hot Encoding\n",
    "<br>\n",
    "> f) None of the mentioned "
   ]
  },
  {
   "cell_type": "markdown",
   "metadata": {},
   "source": [
    "##### Q 10) Which of the following is a pre-processing technique that is useful to avoid getting stuck in local optima during the training phase(in context of neural network)?\n",
    "> a) Normalization\n",
    "<br>\n",
    "> b) Modelling\n",
    "<br>\n",
    "> c) Standardization\n",
    "<br>\n",
    "> d) One-Hot Encoding\n",
    "<br>\n",
    "> e) None of the mentioned "
   ]
  },
  {
   "cell_type": "markdown",
   "metadata": {},
   "source": [
    "##### Q 11) Which of the following is a pre-processing technique that converts categorical data into numerical?\n",
    "> a) Normalization\n",
    "<br>\n",
    "> b) Modelling\n",
    "<br>\n",
    "> c) Scaling\n",
    "<br>\n",
    "> d) Standardization\n",
    "<br>\n",
    "> e) One-Hot Encoding\n",
    "<br>\n",
    "> f) None of the mentioned "
   ]
  },
  {
   "cell_type": "markdown",
   "metadata": {},
   "source": [
    "##### Q 12) In the section \"Machine Learning\", a machine learning model is said to have capability to classify and predict. Could you differentiate between classification and prediction with suitable examples?"
   ]
  },
  {
   "cell_type": "code",
   "execution_count": 1,
   "metadata": {},
   "outputs": [],
   "source": [
    "# ANSWER:\n",
    "# Classification is determining a class or label for the given element.\n",
    "# whereas, prediction is predicting the missing value using the classification model.\n",
    "\n",
    "# Example:\n",
    "#     In a hospital, grouping of patients on their medical records or treatment is called classification.\n",
    "#     Whereas, using classification model to predict the treatment or the class of a new patien is \n",
    "#     known as prediction."
   ]
  },
  {
   "cell_type": "markdown",
   "metadata": {},
   "source": [
    "##### Q 13) Machine learning is majorly divided into three categories; supervised, unsupervised and reinforcement learning. Differentiate between these three with suitable examples? Please do not copy from the text provided, show your understanding."
   ]
  },
  {
   "cell_type": "code",
   "execution_count": 2,
   "metadata": {},
   "outputs": [],
   "source": [
    "# ANSWER:\n",
    "# Supervised Machine Learning:\n",
    "#     This type of algorithm learns on a labelled data set, providing an answer key that the algorithm\n",
    "#     can use its accuracy in evaluating its accuracy on training data. E.g., prediction of house price\n",
    "#     based on its feature set.\n",
    "\n",
    "# Unsupervised Machine Learning:\n",
    "#     It contains no labelled data and algorithm tries to make labeling by extracting features and \n",
    "#     patterns on its own. E.g., Clustering : seperate the birds on the basis of their species by \n",
    "#     examining the collection of different bird pictures.\n",
    "\n",
    "# Re-inforcement Learning:\n",
    "#     It trains model on the basis of reward system, i.e., providing feedback when the system performs \n",
    "#     best action in a particular situation. In such case, small data is labeled and the system works\n",
    "#     to determine the other labeling. Thats why, this learning is also called re-inforcement learning.\n",
    "#     E.g., an expert label and classify tumors on small set of data and then finally this labelled and\n",
    "#     other unlabelled data is used to learn and make prediction on the larger data set with the help of\n",
    "#     re-inforcement learning techniques."
   ]
  },
  {
   "cell_type": "markdown",
   "metadata": {},
   "source": [
    "# Case Study"
   ]
  },
  {
   "cell_type": "markdown",
   "metadata": {},
   "source": [
    "<h2>Titanic: Machine Learning From Disaster</h2>"
   ]
  },
  {
   "cell_type": "markdown",
   "metadata": {},
   "source": [
    "<img src = \"img/titanic_ship.jpg\" >"
   ]
  },
  {
   "cell_type": "markdown",
   "metadata": {},
   "source": [
    "### Description"
   ]
  },
  {
   "cell_type": "markdown",
   "metadata": {},
   "source": [
    "The sinking of the RMS Titanic is one of the most infamous shipwrecks in history.  On April 15, 1912, during her maiden voyage, the Titanic sank after colliding with an iceberg, killing 1502 out of 2224 passengers and crew. This sensational tragedy shocked the international community and led to better safety regulations for ships.\n",
    "\n",
    "One of the reasons that the shipwreck led to such loss of life was that there were not enough lifeboats for the passengers and crew. Although there was some element of luck involved in surviving the sinking, some groups of people were more likely to survive than others, such as women, children, and the upper-class.\n",
    "\n",
    "In this challenge, we ask you to complete the analysis of what sorts of people were likely to survive. In particular, we ask you to apply the tools of machine learning to predict which passengers survived the tragedy.\n"
   ]
  },
  {
   "cell_type": "markdown",
   "metadata": {},
   "source": [
    "### Overview"
   ]
  },
  {
   "cell_type": "markdown",
   "metadata": {},
   "source": [
    "The data has been provided as a single training file:\n",
    "\n",
    "* training set (train.csv)\n",
    "\n",
    "The **training set** should be used to build your machine learning models. For the training set, we provide the outcome (also known as the “ground truth”) for each passenger. Your model will be based on “features” like passengers’ gender and class."
   ]
  },
  {
   "cell_type": "markdown",
   "metadata": {},
   "source": [
    "### Data Dictionary"
   ]
  },
  {
   "cell_type": "markdown",
   "metadata": {},
   "source": [
    "|<h3>**Variable**</h3>|<h3>**Definition**</h3>|<h3>**Key**</h3>|\n",
    "|:-|:-|:-|\n",
    "|PassengerId|Unique Identifier of each passenger||\n",
    "|Survived|Survival|0 = No, 1 = Yes|\n",
    "|Pclass|Ticket class|1 = 1st, 2 = 2nd, 3 = 3rd|\n",
    "|Name|Name of Passenger||\n",
    "|Sex|Gender||\n",
    "|Age|Age in years||\n",
    "|SibSp|# of siblings / spouses aboard the Titanic||\n",
    "|Parch|# of parents / children aboard the Titanic||\n",
    "|Ticket|Ticket number||\n",
    "|Fare|Passenger fare||\n",
    "|Cabin|Cabin number||\n",
    "|Embarked|Port of Embarkation|C = Cherbourg, Q = Queenstown, S = Southampton|"
   ]
  },
  {
   "cell_type": "markdown",
   "metadata": {},
   "source": [
    "* Detail of some of the variables is provided. You need to explore rest of the varibles yourself."
   ]
  },
  {
   "cell_type": "markdown",
   "metadata": {},
   "source": [
    "#### Import Libraries"
   ]
  },
  {
   "cell_type": "code",
   "execution_count": 3,
   "metadata": {},
   "outputs": [],
   "source": [
    "import pandas as pd\n",
    "import numpy as np\n",
    "import scipy\n",
    "import seaborn as sns\n",
    "import matplotlib.pyplot as plt\n",
    "import math\n",
    "from scipy.spatial.distance import euclidean, pdist, squareform"
   ]
  },
  {
   "cell_type": "markdown",
   "metadata": {},
   "source": [
    "#### Read Data"
   ]
  },
  {
   "cell_type": "code",
   "execution_count": 4,
   "metadata": {},
   "outputs": [],
   "source": [
    "titanic_dataset = pd.read_csv('train.csv')\n",
    "# titanic_dataset.head()"
   ]
  },
  {
   "cell_type": "markdown",
   "metadata": {},
   "source": [
    "#### Dimensions of Data"
   ]
  },
  {
   "cell_type": "code",
   "execution_count": 5,
   "metadata": {},
   "outputs": [
    {
     "data": {
      "text/plain": [
       "(891, 12)"
      ]
     },
     "execution_count": 5,
     "metadata": {},
     "output_type": "execute_result"
    }
   ],
   "source": [
    "### \n",
    "### Print Number of Rows and Columns in the dataset\n",
    "### Write your code here\n",
    "###\n",
    "titanic_dataset.shape\n"
   ]
  },
  {
   "cell_type": "markdown",
   "metadata": {},
   "source": [
    "#### Peak at the Data"
   ]
  },
  {
   "cell_type": "code",
   "execution_count": 6,
   "metadata": {},
   "outputs": [
    {
     "name": "stdout",
     "output_type": "stream",
     "text": [
      "Top 10 rows :\n"
     ]
    },
    {
     "data": {
      "text/html": [
       "<div>\n",
       "<style scoped>\n",
       "    .dataframe tbody tr th:only-of-type {\n",
       "        vertical-align: middle;\n",
       "    }\n",
       "\n",
       "    .dataframe tbody tr th {\n",
       "        vertical-align: top;\n",
       "    }\n",
       "\n",
       "    .dataframe thead th {\n",
       "        text-align: right;\n",
       "    }\n",
       "</style>\n",
       "<table border=\"1\" class=\"dataframe\">\n",
       "  <thead>\n",
       "    <tr style=\"text-align: right;\">\n",
       "      <th></th>\n",
       "      <th>PassengerId</th>\n",
       "      <th>Survived</th>\n",
       "      <th>Pclass</th>\n",
       "      <th>Name</th>\n",
       "      <th>Sex</th>\n",
       "      <th>Age</th>\n",
       "      <th>SibSp</th>\n",
       "      <th>Parch</th>\n",
       "      <th>Ticket</th>\n",
       "      <th>Fare</th>\n",
       "      <th>Cabin</th>\n",
       "      <th>Embarked</th>\n",
       "    </tr>\n",
       "  </thead>\n",
       "  <tbody>\n",
       "    <tr>\n",
       "      <td>0</td>\n",
       "      <td>1</td>\n",
       "      <td>0</td>\n",
       "      <td>3</td>\n",
       "      <td>Braund, Mr. Owen Harris</td>\n",
       "      <td>male</td>\n",
       "      <td>22.0</td>\n",
       "      <td>1</td>\n",
       "      <td>0</td>\n",
       "      <td>A/5 21171</td>\n",
       "      <td>7.2500</td>\n",
       "      <td>NaN</td>\n",
       "      <td>S</td>\n",
       "    </tr>\n",
       "    <tr>\n",
       "      <td>1</td>\n",
       "      <td>2</td>\n",
       "      <td>1</td>\n",
       "      <td>1</td>\n",
       "      <td>Cumings, Mrs. John Bradley (Florence Briggs Th...</td>\n",
       "      <td>female</td>\n",
       "      <td>38.0</td>\n",
       "      <td>1</td>\n",
       "      <td>0</td>\n",
       "      <td>PC 17599</td>\n",
       "      <td>71.2833</td>\n",
       "      <td>C85</td>\n",
       "      <td>C</td>\n",
       "    </tr>\n",
       "    <tr>\n",
       "      <td>2</td>\n",
       "      <td>3</td>\n",
       "      <td>1</td>\n",
       "      <td>3</td>\n",
       "      <td>Heikkinen, Miss. Laina</td>\n",
       "      <td>female</td>\n",
       "      <td>26.0</td>\n",
       "      <td>0</td>\n",
       "      <td>0</td>\n",
       "      <td>STON/O2. 3101282</td>\n",
       "      <td>7.9250</td>\n",
       "      <td>NaN</td>\n",
       "      <td>S</td>\n",
       "    </tr>\n",
       "    <tr>\n",
       "      <td>3</td>\n",
       "      <td>4</td>\n",
       "      <td>1</td>\n",
       "      <td>1</td>\n",
       "      <td>Futrelle, Mrs. Jacques Heath (Lily May Peel)</td>\n",
       "      <td>female</td>\n",
       "      <td>35.0</td>\n",
       "      <td>1</td>\n",
       "      <td>0</td>\n",
       "      <td>113803</td>\n",
       "      <td>53.1000</td>\n",
       "      <td>C123</td>\n",
       "      <td>S</td>\n",
       "    </tr>\n",
       "    <tr>\n",
       "      <td>4</td>\n",
       "      <td>5</td>\n",
       "      <td>0</td>\n",
       "      <td>3</td>\n",
       "      <td>Allen, Mr. William Henry</td>\n",
       "      <td>male</td>\n",
       "      <td>35.0</td>\n",
       "      <td>0</td>\n",
       "      <td>0</td>\n",
       "      <td>373450</td>\n",
       "      <td>8.0500</td>\n",
       "      <td>NaN</td>\n",
       "      <td>S</td>\n",
       "    </tr>\n",
       "    <tr>\n",
       "      <td>5</td>\n",
       "      <td>6</td>\n",
       "      <td>0</td>\n",
       "      <td>3</td>\n",
       "      <td>Moran, Mr. James</td>\n",
       "      <td>male</td>\n",
       "      <td>NaN</td>\n",
       "      <td>0</td>\n",
       "      <td>0</td>\n",
       "      <td>330877</td>\n",
       "      <td>8.4583</td>\n",
       "      <td>NaN</td>\n",
       "      <td>Q</td>\n",
       "    </tr>\n",
       "    <tr>\n",
       "      <td>6</td>\n",
       "      <td>7</td>\n",
       "      <td>0</td>\n",
       "      <td>1</td>\n",
       "      <td>McCarthy, Mr. Timothy J</td>\n",
       "      <td>male</td>\n",
       "      <td>54.0</td>\n",
       "      <td>0</td>\n",
       "      <td>0</td>\n",
       "      <td>17463</td>\n",
       "      <td>51.8625</td>\n",
       "      <td>E46</td>\n",
       "      <td>S</td>\n",
       "    </tr>\n",
       "    <tr>\n",
       "      <td>7</td>\n",
       "      <td>8</td>\n",
       "      <td>0</td>\n",
       "      <td>3</td>\n",
       "      <td>Palsson, Master. Gosta Leonard</td>\n",
       "      <td>male</td>\n",
       "      <td>2.0</td>\n",
       "      <td>3</td>\n",
       "      <td>1</td>\n",
       "      <td>349909</td>\n",
       "      <td>21.0750</td>\n",
       "      <td>NaN</td>\n",
       "      <td>S</td>\n",
       "    </tr>\n",
       "    <tr>\n",
       "      <td>8</td>\n",
       "      <td>9</td>\n",
       "      <td>1</td>\n",
       "      <td>3</td>\n",
       "      <td>Johnson, Mrs. Oscar W (Elisabeth Vilhelmina Berg)</td>\n",
       "      <td>female</td>\n",
       "      <td>27.0</td>\n",
       "      <td>0</td>\n",
       "      <td>2</td>\n",
       "      <td>347742</td>\n",
       "      <td>11.1333</td>\n",
       "      <td>NaN</td>\n",
       "      <td>S</td>\n",
       "    </tr>\n",
       "    <tr>\n",
       "      <td>9</td>\n",
       "      <td>10</td>\n",
       "      <td>1</td>\n",
       "      <td>2</td>\n",
       "      <td>Nasser, Mrs. Nicholas (Adele Achem)</td>\n",
       "      <td>female</td>\n",
       "      <td>14.0</td>\n",
       "      <td>1</td>\n",
       "      <td>0</td>\n",
       "      <td>237736</td>\n",
       "      <td>30.0708</td>\n",
       "      <td>NaN</td>\n",
       "      <td>C</td>\n",
       "    </tr>\n",
       "  </tbody>\n",
       "</table>\n",
       "</div>"
      ],
      "text/plain": [
       "   PassengerId  Survived  Pclass  \\\n",
       "0            1         0       3   \n",
       "1            2         1       1   \n",
       "2            3         1       3   \n",
       "3            4         1       1   \n",
       "4            5         0       3   \n",
       "5            6         0       3   \n",
       "6            7         0       1   \n",
       "7            8         0       3   \n",
       "8            9         1       3   \n",
       "9           10         1       2   \n",
       "\n",
       "                                                Name     Sex   Age  SibSp  \\\n",
       "0                            Braund, Mr. Owen Harris    male  22.0      1   \n",
       "1  Cumings, Mrs. John Bradley (Florence Briggs Th...  female  38.0      1   \n",
       "2                             Heikkinen, Miss. Laina  female  26.0      0   \n",
       "3       Futrelle, Mrs. Jacques Heath (Lily May Peel)  female  35.0      1   \n",
       "4                           Allen, Mr. William Henry    male  35.0      0   \n",
       "5                                   Moran, Mr. James    male   NaN      0   \n",
       "6                            McCarthy, Mr. Timothy J    male  54.0      0   \n",
       "7                     Palsson, Master. Gosta Leonard    male   2.0      3   \n",
       "8  Johnson, Mrs. Oscar W (Elisabeth Vilhelmina Berg)  female  27.0      0   \n",
       "9                Nasser, Mrs. Nicholas (Adele Achem)  female  14.0      1   \n",
       "\n",
       "   Parch            Ticket     Fare Cabin Embarked  \n",
       "0      0         A/5 21171   7.2500   NaN        S  \n",
       "1      0          PC 17599  71.2833   C85        C  \n",
       "2      0  STON/O2. 3101282   7.9250   NaN        S  \n",
       "3      0            113803  53.1000  C123        S  \n",
       "4      0            373450   8.0500   NaN        S  \n",
       "5      0            330877   8.4583   NaN        Q  \n",
       "6      0             17463  51.8625   E46        S  \n",
       "7      1            349909  21.0750   NaN        S  \n",
       "8      2            347742  11.1333   NaN        S  \n",
       "9      0            237736  30.0708   NaN        C  "
      ]
     },
     "metadata": {},
     "output_type": "display_data"
    },
    {
     "name": "stdout",
     "output_type": "stream",
     "text": [
      "Last 10 rows :\n"
     ]
    },
    {
     "data": {
      "text/html": [
       "<div>\n",
       "<style scoped>\n",
       "    .dataframe tbody tr th:only-of-type {\n",
       "        vertical-align: middle;\n",
       "    }\n",
       "\n",
       "    .dataframe tbody tr th {\n",
       "        vertical-align: top;\n",
       "    }\n",
       "\n",
       "    .dataframe thead th {\n",
       "        text-align: right;\n",
       "    }\n",
       "</style>\n",
       "<table border=\"1\" class=\"dataframe\">\n",
       "  <thead>\n",
       "    <tr style=\"text-align: right;\">\n",
       "      <th></th>\n",
       "      <th>PassengerId</th>\n",
       "      <th>Survived</th>\n",
       "      <th>Pclass</th>\n",
       "      <th>Name</th>\n",
       "      <th>Sex</th>\n",
       "      <th>Age</th>\n",
       "      <th>SibSp</th>\n",
       "      <th>Parch</th>\n",
       "      <th>Ticket</th>\n",
       "      <th>Fare</th>\n",
       "      <th>Cabin</th>\n",
       "      <th>Embarked</th>\n",
       "    </tr>\n",
       "  </thead>\n",
       "  <tbody>\n",
       "    <tr>\n",
       "      <td>881</td>\n",
       "      <td>882</td>\n",
       "      <td>0</td>\n",
       "      <td>3</td>\n",
       "      <td>Markun, Mr. Johann</td>\n",
       "      <td>male</td>\n",
       "      <td>33.0</td>\n",
       "      <td>0</td>\n",
       "      <td>0</td>\n",
       "      <td>349257</td>\n",
       "      <td>7.8958</td>\n",
       "      <td>NaN</td>\n",
       "      <td>S</td>\n",
       "    </tr>\n",
       "    <tr>\n",
       "      <td>882</td>\n",
       "      <td>883</td>\n",
       "      <td>0</td>\n",
       "      <td>3</td>\n",
       "      <td>Dahlberg, Miss. Gerda Ulrika</td>\n",
       "      <td>female</td>\n",
       "      <td>22.0</td>\n",
       "      <td>0</td>\n",
       "      <td>0</td>\n",
       "      <td>7552</td>\n",
       "      <td>10.5167</td>\n",
       "      <td>NaN</td>\n",
       "      <td>S</td>\n",
       "    </tr>\n",
       "    <tr>\n",
       "      <td>883</td>\n",
       "      <td>884</td>\n",
       "      <td>0</td>\n",
       "      <td>2</td>\n",
       "      <td>Banfield, Mr. Frederick James</td>\n",
       "      <td>male</td>\n",
       "      <td>28.0</td>\n",
       "      <td>0</td>\n",
       "      <td>0</td>\n",
       "      <td>C.A./SOTON 34068</td>\n",
       "      <td>10.5000</td>\n",
       "      <td>NaN</td>\n",
       "      <td>S</td>\n",
       "    </tr>\n",
       "    <tr>\n",
       "      <td>884</td>\n",
       "      <td>885</td>\n",
       "      <td>0</td>\n",
       "      <td>3</td>\n",
       "      <td>Sutehall, Mr. Henry Jr</td>\n",
       "      <td>male</td>\n",
       "      <td>25.0</td>\n",
       "      <td>0</td>\n",
       "      <td>0</td>\n",
       "      <td>SOTON/OQ 392076</td>\n",
       "      <td>7.0500</td>\n",
       "      <td>NaN</td>\n",
       "      <td>S</td>\n",
       "    </tr>\n",
       "    <tr>\n",
       "      <td>885</td>\n",
       "      <td>886</td>\n",
       "      <td>0</td>\n",
       "      <td>3</td>\n",
       "      <td>Rice, Mrs. William (Margaret Norton)</td>\n",
       "      <td>female</td>\n",
       "      <td>39.0</td>\n",
       "      <td>0</td>\n",
       "      <td>5</td>\n",
       "      <td>382652</td>\n",
       "      <td>29.1250</td>\n",
       "      <td>NaN</td>\n",
       "      <td>Q</td>\n",
       "    </tr>\n",
       "    <tr>\n",
       "      <td>886</td>\n",
       "      <td>887</td>\n",
       "      <td>0</td>\n",
       "      <td>2</td>\n",
       "      <td>Montvila, Rev. Juozas</td>\n",
       "      <td>male</td>\n",
       "      <td>27.0</td>\n",
       "      <td>0</td>\n",
       "      <td>0</td>\n",
       "      <td>211536</td>\n",
       "      <td>13.0000</td>\n",
       "      <td>NaN</td>\n",
       "      <td>S</td>\n",
       "    </tr>\n",
       "    <tr>\n",
       "      <td>887</td>\n",
       "      <td>888</td>\n",
       "      <td>1</td>\n",
       "      <td>1</td>\n",
       "      <td>Graham, Miss. Margaret Edith</td>\n",
       "      <td>female</td>\n",
       "      <td>19.0</td>\n",
       "      <td>0</td>\n",
       "      <td>0</td>\n",
       "      <td>112053</td>\n",
       "      <td>30.0000</td>\n",
       "      <td>B42</td>\n",
       "      <td>S</td>\n",
       "    </tr>\n",
       "    <tr>\n",
       "      <td>888</td>\n",
       "      <td>889</td>\n",
       "      <td>0</td>\n",
       "      <td>3</td>\n",
       "      <td>Johnston, Miss. Catherine Helen \"Carrie\"</td>\n",
       "      <td>female</td>\n",
       "      <td>NaN</td>\n",
       "      <td>1</td>\n",
       "      <td>2</td>\n",
       "      <td>W./C. 6607</td>\n",
       "      <td>23.4500</td>\n",
       "      <td>NaN</td>\n",
       "      <td>S</td>\n",
       "    </tr>\n",
       "    <tr>\n",
       "      <td>889</td>\n",
       "      <td>890</td>\n",
       "      <td>1</td>\n",
       "      <td>1</td>\n",
       "      <td>Behr, Mr. Karl Howell</td>\n",
       "      <td>male</td>\n",
       "      <td>26.0</td>\n",
       "      <td>0</td>\n",
       "      <td>0</td>\n",
       "      <td>111369</td>\n",
       "      <td>30.0000</td>\n",
       "      <td>C148</td>\n",
       "      <td>C</td>\n",
       "    </tr>\n",
       "    <tr>\n",
       "      <td>890</td>\n",
       "      <td>891</td>\n",
       "      <td>0</td>\n",
       "      <td>3</td>\n",
       "      <td>Dooley, Mr. Patrick</td>\n",
       "      <td>male</td>\n",
       "      <td>32.0</td>\n",
       "      <td>0</td>\n",
       "      <td>0</td>\n",
       "      <td>370376</td>\n",
       "      <td>7.7500</td>\n",
       "      <td>NaN</td>\n",
       "      <td>Q</td>\n",
       "    </tr>\n",
       "  </tbody>\n",
       "</table>\n",
       "</div>"
      ],
      "text/plain": [
       "     PassengerId  Survived  Pclass                                      Name  \\\n",
       "881          882         0       3                        Markun, Mr. Johann   \n",
       "882          883         0       3              Dahlberg, Miss. Gerda Ulrika   \n",
       "883          884         0       2             Banfield, Mr. Frederick James   \n",
       "884          885         0       3                    Sutehall, Mr. Henry Jr   \n",
       "885          886         0       3      Rice, Mrs. William (Margaret Norton)   \n",
       "886          887         0       2                     Montvila, Rev. Juozas   \n",
       "887          888         1       1              Graham, Miss. Margaret Edith   \n",
       "888          889         0       3  Johnston, Miss. Catherine Helen \"Carrie\"   \n",
       "889          890         1       1                     Behr, Mr. Karl Howell   \n",
       "890          891         0       3                       Dooley, Mr. Patrick   \n",
       "\n",
       "        Sex   Age  SibSp  Parch            Ticket     Fare Cabin Embarked  \n",
       "881    male  33.0      0      0            349257   7.8958   NaN        S  \n",
       "882  female  22.0      0      0              7552  10.5167   NaN        S  \n",
       "883    male  28.0      0      0  C.A./SOTON 34068  10.5000   NaN        S  \n",
       "884    male  25.0      0      0   SOTON/OQ 392076   7.0500   NaN        S  \n",
       "885  female  39.0      0      5            382652  29.1250   NaN        Q  \n",
       "886    male  27.0      0      0            211536  13.0000   NaN        S  \n",
       "887  female  19.0      0      0            112053  30.0000   B42        S  \n",
       "888  female   NaN      1      2        W./C. 6607  23.4500   NaN        S  \n",
       "889    male  26.0      0      0            111369  30.0000  C148        C  \n",
       "890    male  32.0      0      0            370376   7.7500   NaN        Q  "
      ]
     },
     "metadata": {},
     "output_type": "display_data"
    }
   ],
   "source": [
    "###\n",
    "### Print first 10 and last 10 rows of the data\n",
    "### Write your code here\n",
    "\n",
    "print('Top 10 rows :')\n",
    "display(titanic_dataset.head(10))\n",
    "\n",
    "print('Last 10 rows :')\n",
    "display(titanic_dataset.tail(10))"
   ]
  },
  {
   "cell_type": "markdown",
   "metadata": {},
   "source": [
    "#### Attributes in Data"
   ]
  },
  {
   "cell_type": "code",
   "execution_count": 7,
   "metadata": {},
   "outputs": [
    {
     "name": "stdout",
     "output_type": "stream",
     "text": [
      "All Column values: \n",
      "['PassengerId' 'Survived' 'Pclass' 'Name' 'Sex' 'Age' 'SibSp' 'Parch'\n",
      " 'Ticket' 'Fare' 'Cabin' 'Embarked']\n"
     ]
    }
   ],
   "source": [
    "###\n",
    "### Print all the attribute/column names\n",
    "### Write your code here\n",
    "###\n",
    "print('All Column values: ')\n",
    "print(titanic_dataset.columns.values)"
   ]
  },
  {
   "cell_type": "markdown",
   "metadata": {},
   "source": [
    "#### Data types of Attributes"
   ]
  },
  {
   "cell_type": "code",
   "execution_count": 8,
   "metadata": {},
   "outputs": [
    {
     "name": "stdout",
     "output_type": "stream",
     "text": [
      "Data Type of PassengerId is \t: int64\n",
      "Data Type of Survived is \t: int64\n",
      "Data Type of Pclass is \t: int64\n",
      "Data Type of Name is \t: object\n",
      "Data Type of Sex is \t: object\n",
      "Data Type of Age is \t: float64\n",
      "Data Type of SibSp is \t: int64\n",
      "Data Type of Parch is \t: int64\n",
      "Data Type of Ticket is \t: object\n",
      "Data Type of Fare is \t: float64\n",
      "Data Type of Cabin is \t: object\n",
      "Data Type of Embarked is \t: object\n",
      "\n",
      " Discrete Attributes are :\n",
      " ['Survived', 'Pclass', 'Sex', 'SibSp', 'Parch', 'Embarked']\n",
      "\n",
      " \n",
      " Continuous Attributes are \n",
      " ['PassengerId', 'Name', 'Age', 'Ticket', 'Fare', 'Cabin']\n"
     ]
    }
   ],
   "source": [
    "###\n",
    "### Print datatypes of all attributes\n",
    "### Separate Discrete and Continuous Attributes programmatically\n",
    "### Write your code here\n",
    "###\n",
    "dtypes = titanic_dataset.columns.values\n",
    "discreteAttribute = []\n",
    "continuousAttribute = []\n",
    "\n",
    "for i in dtypes:\n",
    "    print(f'Data Type of {i} is \\t:' ,titanic_dataset[i].dtype)\n",
    "    \n",
    "    if titanic_dataset[i].nunique() < (titanic_dataset.shape[0]//15):\n",
    "        discreteAttribute.append(i)\n",
    "    else:\n",
    "        continuousAttribute.append(i)\n",
    "print('\\n Discrete Attributes are :\\n',discreteAttribute)\n",
    "print('\\n \\n Continuous Attributes are \\n',continuousAttribute)\n"
   ]
  },
  {
   "cell_type": "markdown",
   "metadata": {},
   "source": [
    "#### Describe the Data"
   ]
  },
  {
   "cell_type": "code",
   "execution_count": 9,
   "metadata": {},
   "outputs": [
    {
     "name": "stdout",
     "output_type": "stream",
     "text": [
      "Data Frame : Survived\n",
      "count     891\n",
      "unique      2\n",
      "top         0\n",
      "freq      549\n",
      "Name: Survived, dtype: object \n",
      "\n",
      "\n",
      "Data Frame : Pclass\n",
      "count     891\n",
      "unique      3\n",
      "top         3\n",
      "freq      491\n",
      "Name: Pclass, dtype: object \n",
      "\n",
      "\n",
      "Data Frame : Sex\n",
      "count      891\n",
      "unique       2\n",
      "top       male\n",
      "freq       577\n",
      "Name: Sex, dtype: object \n",
      "\n",
      "\n",
      "Data Frame : SibSp\n",
      "count     891\n",
      "unique      7\n",
      "top         0\n",
      "freq      608\n",
      "Name: SibSp, dtype: object \n",
      "\n",
      "\n",
      "Data Frame : Parch\n",
      "count     891\n",
      "unique      7\n",
      "top         0\n",
      "freq      678\n",
      "Name: Parch, dtype: object \n",
      "\n",
      "\n",
      "Data Frame : Embarked\n",
      "count     891\n",
      "unique      4\n",
      "top         S\n",
      "freq      644\n",
      "Name: Embarked, dtype: object \n",
      "\n",
      "\n"
     ]
    }
   ],
   "source": [
    "###\n",
    "### Print the description of data\n",
    "### You should know what it means to describe a continuous attribute\n",
    "### And what it means to describe a discrete attribute\n",
    "### Make separate blocks for each of these\n",
    "### Write your code here\n",
    "###  DISCRETE\n",
    "for i in discreteAttribute:\n",
    "    print('Data Frame :',i)\n",
    "    j = titanic_dataset[i].astype('str')\n",
    "    print(j.describe(),'\\n\\n')"
   ]
  },
  {
   "cell_type": "code",
   "execution_count": 10,
   "metadata": {},
   "outputs": [
    {
     "name": "stdout",
     "output_type": "stream",
     "text": [
      "Data Frame : PassengerId\n",
      "count    891.000000\n",
      "mean     446.000000\n",
      "std      257.353842\n",
      "min        1.000000\n",
      "25%      223.500000\n",
      "50%      446.000000\n",
      "75%      668.500000\n",
      "max      891.000000\n",
      "Name: PassengerId, dtype: float64 \n",
      "\n",
      "\n",
      "Data Frame : Age\n",
      "count    714.000000\n",
      "mean      29.699118\n",
      "std       14.526497\n",
      "min        0.420000\n",
      "25%       20.125000\n",
      "50%       28.000000\n",
      "75%       38.000000\n",
      "max       80.000000\n",
      "Name: Age, dtype: float64 \n",
      "\n",
      "\n",
      "Data Frame : Ticket\n",
      "count        891\n",
      "unique       681\n",
      "top       347082\n",
      "freq           7\n",
      "Name: Ticket, dtype: object \n",
      "\n",
      "\n",
      "Data Frame : Fare\n",
      "count    891.000000\n",
      "mean      32.204208\n",
      "std       49.693429\n",
      "min        0.000000\n",
      "25%        7.910400\n",
      "50%       14.454200\n",
      "75%       31.000000\n",
      "max      512.329200\n",
      "Name: Fare, dtype: float64 \n",
      "\n",
      "\n",
      "Data Frame : Cabin\n",
      "count             204\n",
      "unique            147\n",
      "top       C23 C25 C27\n",
      "freq                4\n",
      "Name: Cabin, dtype: object \n",
      "\n",
      "\n"
     ]
    }
   ],
   "source": [
    "###\n",
    "### Write your code here\n",
    "###\n",
    "continuousAttribute.remove('Name')\n",
    "\"\"\"\"\n",
    "Name is a label as the id or PessangerID is. It is a Continuous data, but will be treated as label.\n",
    "\"\"\"\n",
    "for i in continuousAttribute:\n",
    "    print('Data Frame :',i)\n",
    "    print(titanic_dataset[i].describe(),'\\n\\n')\n",
    "\n",
    "    \n"
   ]
  },
  {
   "cell_type": "markdown",
   "metadata": {},
   "source": [
    "#### Exploratory Data Analysis"
   ]
  },
  {
   "cell_type": "code",
   "execution_count": 11,
   "metadata": {
    "scrolled": true
   },
   "outputs": [
    {
     "name": "stderr",
     "output_type": "stream",
     "text": [
      "e:\\users\\basir\\appdata\\local\\programs\\python\\python37-32\\lib\\site-packages\\pandas\\plotting\\_matplotlib\\core.py:338: RuntimeWarning: More than 20 figures have been opened. Figures created through the pyplot interface (`matplotlib.pyplot.figure`) are retained until explicitly closed and may consume too much memory. (To control this warning, see the rcParam `figure.max_open_warning`).\n",
      "  fig = self.plt.figure(figsize=self.figsize)\n",
      "e:\\users\\basir\\appdata\\local\\programs\\python\\python37-32\\lib\\site-packages\\ipykernel_launcher.py:28: RuntimeWarning: More than 20 figures have been opened. Figures created through the pyplot interface (`matplotlib.pyplot.figure`) are retained until explicitly closed and may consume too much memory. (To control this warning, see the rcParam `figure.max_open_warning`).\n"
     ]
    },
    {
     "data": {
      "image/png": "[encoded data removed]",
      "text/plain": [
       "<Figure size 720x720 with 9 Axes>"
      ]
     },
     "metadata": {
      "needs_background": "light"
     },
     "output_type": "display_data"
    },
    {
     "data": {
      "text/plain": [
       "<Figure size 432x288 with 0 Axes>"
      ]
     },
     "metadata": {},
     "output_type": "display_data"
    },
    {
     "data": {
      "image/png": "[encoded data removed]",
      "text/plain": [
       "<Figure size 576x288 with 1 Axes>"
      ]
     },
     "metadata": {
      "needs_background": "light"
     },
     "output_type": "display_data"
    },
    {
     "data": {
      "text/plain": [
       "<Figure size 432x288 with 0 Axes>"
      ]
     },
     "metadata": {},
     "output_type": "display_data"
    },
    {
     "data": {
      "image/png": "[encoded data removed]",
      "text/plain": [
       "<Figure size 576x288 with 1 Axes>"
      ]
     },
     "metadata": {
      "needs_background": "light"
     },
     "output_type": "display_data"
    },
    {
     "data": {
      "text/plain": [
       "<Figure size 432x288 with 0 Axes>"
      ]
     },
     "metadata": {},
     "output_type": "display_data"
    },
    {
     "data": {
      "image/png": "[encoded data removed]",
      "text/plain": [
       "<Figure size 576x288 with 1 Axes>"
      ]
     },
     "metadata": {
      "needs_background": "light"
     },
     "output_type": "display_data"
    },
    {
     "data": {
      "text/plain": [
       "<Figure size 432x288 with 0 Axes>"
      ]
     },
     "metadata": {},
     "output_type": "display_data"
    },
    {
     "data": {
      "image/png": "[encoded data removed]",
      "text/plain": [
       "<Figure size 576x288 with 1 Axes>"
      ]
     },
     "metadata": {
      "needs_background": "light"
     },
     "output_type": "display_data"
    },
    {
     "data": {
      "text/plain": [
       "<Figure size 432x288 with 0 Axes>"
      ]
     },
     "metadata": {},
     "output_type": "display_data"
    },
    {
     "data": {
      "image/png": "[encoded data removed]",
      "text/plain": [
       "<Figure size 576x288 with 1 Axes>"
      ]
     },
     "metadata": {
      "needs_background": "light"
     },
     "output_type": "display_data"
    },
    {
     "data": {
      "text/plain": [
       "<Figure size 432x288 with 0 Axes>"
      ]
     },
     "metadata": {},
     "output_type": "display_data"
    },
    {
     "data": {
      "image/png": "[encoded data removed]",
      "text/plain": [
       "<Figure size 576x288 with 1 Axes>"
      ]
     },
     "metadata": {
      "needs_background": "light"
     },
     "output_type": "display_data"
    },
    {
     "data": {
      "text/plain": [
       "<Figure size 432x288 with 0 Axes>"
      ]
     },
     "metadata": {},
     "output_type": "display_data"
    },
    {
     "data": {
      "image/png": "[encoded data removed]",
      "text/plain": [
       "<Figure size 576x288 with 1 Axes>"
      ]
     },
     "metadata": {
      "needs_background": "light"
     },
     "output_type": "display_data"
    },
    {
     "data": {
      "text/plain": [
       "<Figure size 432x288 with 0 Axes>"
      ]
     },
     "metadata": {},
     "output_type": "display_data"
    },
    {
     "data": {
      "image/png": "[encoded data removed]",
      "text/plain": [
       "<Figure size 576x288 with 1 Axes>"
      ]
     },
     "metadata": {
      "needs_background": "light"
     },
     "output_type": "display_data"
    },
    {
     "data": {
      "text/plain": [
       "<Figure size 432x288 with 0 Axes>"
      ]
     },
     "metadata": {},
     "output_type": "display_data"
    },
    {
     "data": {
      "image/png": "[encoded data removed]",
      "text/plain": [
       "<Figure size 576x288 with 1 Axes>"
      ]
     },
     "metadata": {
      "needs_background": "light"
     },
     "output_type": "display_data"
    },
    {
     "data": {
      "text/plain": [
       "<Figure size 432x288 with 0 Axes>"
      ]
     },
     "metadata": {},
     "output_type": "display_data"
    },
    {
     "data": {
      "image/png": "[encoded data removed]",
      "text/plain": [
       "<Figure size 576x288 with 1 Axes>"
      ]
     },
     "metadata": {
      "needs_background": "light"
     },
     "output_type": "display_data"
    },
    {
     "data": {
      "text/plain": [
       "<Figure size 432x288 with 0 Axes>"
      ]
     },
     "metadata": {},
     "output_type": "display_data"
    },
    {
     "data": {
      "image/png": "[encoded data removed]",
      "text/plain": [
       "<Figure size 576x288 with 1 Axes>"
      ]
     },
     "metadata": {
      "needs_background": "light"
     },
     "output_type": "display_data"
    },
    {
     "data": {
      "text/plain": [
       "<Figure size 432x288 with 0 Axes>"
      ]
     },
     "metadata": {},
     "output_type": "display_data"
    },
    {
     "data": {
      "image/png": "[encoded data removed]",
      "text/plain": [
       "<Figure size 576x288 with 1 Axes>"
      ]
     },
     "metadata": {
      "needs_background": "light"
     },
     "output_type": "display_data"
    }
   ],
   "source": [
    "###\n",
    "### For this section you should plot 2 graphs for each attribute\n",
    "### First graph should display the distribution of data in each attribute\n",
    "### Second graph should display how the attribute changes with respect to target class\n",
    "###\n",
    "### Take advantage of matplotlib and any other plotting library\n",
    "### Remember your graph should be meaningful and properly labeled\n",
    "### You should understand that when the type of variable changes - it's representation also changes\n",
    "###\n",
    "### In some of the attributes you would discover that plotting them is not possible\n",
    "### Could you tell why plotting these attributes is not possible?\n",
    "### Is there any way to resolve this issue?\n",
    "###\n",
    "### Please remember not to make any changes in the original dataframe\n",
    "###\n",
    "### Write your code here\n",
    "# ###\n",
    "titanic_train = pd.read_csv('train.csv')\n",
    "%matplotlib inline\n",
    "titanic_train.hist(figsize = (10,10))\n",
    "\n",
    "features = titanic_train.columns.values\n",
    "for i in features:\n",
    "    survived = titanic_train[titanic_train['Survived'] == 1][i].value_counts()\n",
    "    dead = titanic_train[titanic_train['Survived'] == 0][i].value_counts()\n",
    "    df = pd.DataFrame([survived,dead])\n",
    "    df.index = ['Survived', 'Dead']\n",
    "    plt.figure()\n",
    "    df.plot(kind='bar', stacked=True, figsize=(8,4), legend = False)"
   ]
  },
  {
   "cell_type": "markdown",
   "metadata": {},
   "source": [
    "<h3> Great! Let's Keep Going </h3>\n",
    "* I hope now you have a good understanding of data.\n",
    "* Let's move to the next phase of data science"
   ]
  },
  {
   "cell_type": "markdown",
   "metadata": {},
   "source": [
    "### Pre-processing"
   ]
  },
  {
   "cell_type": "code",
   "execution_count": 12,
   "metadata": {},
   "outputs": [
    {
     "data": {
      "text/html": [
       "<div>\n",
       "<style scoped>\n",
       "    .dataframe tbody tr th:only-of-type {\n",
       "        vertical-align: middle;\n",
       "    }\n",
       "\n",
       "    .dataframe tbody tr th {\n",
       "        vertical-align: top;\n",
       "    }\n",
       "\n",
       "    .dataframe thead th {\n",
       "        text-align: right;\n",
       "    }\n",
       "</style>\n",
       "<table border=\"1\" class=\"dataframe\">\n",
       "  <thead>\n",
       "    <tr style=\"text-align: right;\">\n",
       "      <th></th>\n",
       "      <th>PassengerId</th>\n",
       "      <th>Survived</th>\n",
       "      <th>Pclass</th>\n",
       "      <th>Name</th>\n",
       "      <th>Sex</th>\n",
       "      <th>Age</th>\n",
       "      <th>SibSp</th>\n",
       "      <th>Parch</th>\n",
       "      <th>Ticket</th>\n",
       "      <th>Fare</th>\n",
       "      <th>Cabin</th>\n",
       "      <th>Embarked</th>\n",
       "    </tr>\n",
       "  </thead>\n",
       "  <tbody>\n",
       "  </tbody>\n",
       "</table>\n",
       "</div>"
      ],
      "text/plain": [
       "Empty DataFrame\n",
       "Columns: [PassengerId, Survived, Pclass, Name, Sex, Age, SibSp, Parch, Ticket, Fare, Cabin, Embarked]\n",
       "Index: []"
      ]
     },
     "execution_count": 12,
     "metadata": {},
     "output_type": "execute_result"
    }
   ],
   "source": [
    "###\n",
    "### Check for duplicate rows. If found handle them.\n",
    "### Write your code here\n",
    "###\n",
    "titanic_dataset[titanic_dataset.duplicated(subset='Name')]\n",
    "\n",
    "# None of the rows are duplicated as all of the names are unique."
   ]
  },
  {
   "cell_type": "code",
   "execution_count": 13,
   "metadata": {},
   "outputs": [],
   "source": [
    "###\n",
    "### Check for missing values. If found handle them in the best possible manner\n",
    "### Write your code here\n",
    "###\n",
    "avg = titanic_dataset['Age'].mean()\n",
    "# titanic_dataset['Age'].fillna(value = avg, inplace=True, method=None)\n",
    "titanic_dataset['Survived'].fillna(value = 0, inplace=True, method=None)\n",
    "titanic_dataset['Pclass'].fillna(value = 3, inplace=True, method=None)\n",
    "titanic_dataset['Parch'].fillna(value = 0, inplace=True, method=None)\n",
    "titanic_dataset['Cabin'].fillna(value = 'N/A', inplace=True, method=None)\n",
    "titanic_dataset['Ticket'].fillna(value = 'N/A', inplace=True, method=None)\n",
    "\n",
    "avg = titanic_dataset['Fare'].mean()\n",
    "titanic_dataset['Fare'].fillna(value = avg, inplace=True, method=None)\n",
    "\n"
   ]
  },
  {
   "cell_type": "code",
   "execution_count": 14,
   "metadata": {},
   "outputs": [
    {
     "data": {
      "image/png": "[encoded data removed]",
      "text/plain": [
       "<Figure size 432x288 with 1 Axes>"
      ]
     },
     "metadata": {
      "needs_background": "light"
     },
     "output_type": "display_data"
    },
    {
     "data": {
      "image/png": "[encoded data removed]",
      "text/plain": [
       "<Figure size 1152x432 with 1 Axes>"
      ]
     },
     "metadata": {
      "needs_background": "light"
     },
     "output_type": "display_data"
    }
   ],
   "source": [
    "###\n",
    "### Check for outliers. If found handle them in the best possible manner\n",
    "### Write your code here\n",
    "###\n",
    "\n",
    "\n",
    "(sns.boxplot(x=titanic_dataset['Age'])).plot()\n",
    "\n",
    "\n",
    "fig,ax = plt.subplots(figsize = (16,6))\n",
    "ax.scatter(titanic_dataset['Fare'], titanic_dataset['PassengerId'])\n",
    "ax.plot()\n",
    "avg = titanic_dataset['Fare'].mean()\n",
    "outlier_indexes = titanic_dataset[titanic_dataset['Fare']>350].index\n",
    "for i in outlier_indexes:\n",
    "    titanic_dataset.loc[i,'Fare'] = avg\n",
    "\n",
    "# From the boxplot and scatter plot of Fare, it can be easily observed that the values above than 300 \n",
    "# are very rare and has very long difference form the reamining following values, so the values are\n",
    "# averaged.\n"
   ]
  },
  {
   "cell_type": "code",
   "execution_count": 15,
   "metadata": {},
   "outputs": [],
   "source": [
    "###\n",
    "### Check for any other data quality issues\n",
    "### Report these issues and also resolve them\n",
    "### Write your code here\n",
    "###\n",
    "\n",
    "# Only noticable issue reamining is with the Ticket numbers, as because the ticket number varies in,\n",
    "# thousands and some of them are with letters. The  two anomalies are might be due to human error.\n"
   ]
  },
  {
   "cell_type": "markdown",
   "metadata": {},
   "source": [
    "#### Drop Irrelevant Attributes\n",
    "\n",
    "In your initial analysis, you must have noticed that there were some attributes that did not play any role in prediction. Therefore, we would remove these attributes."
   ]
  },
  {
   "cell_type": "code",
   "execution_count": 1,
   "metadata": {},
   "outputs": [
    {
     "ename": "NameError",
     "evalue": "name 'titanic_dataset' is not defined",
     "output_type": "error",
     "traceback": [
      "\u001b[1;31m---------------------------------------------------------------------------\u001b[0m",
      "\u001b[1;31mNameError\u001b[0m                                 Traceback (most recent call last)",
      "\u001b[1;32m<ipython-input-1-afd80278a351>\u001b[0m in \u001b[0;36m<module>\u001b[1;34m\u001b[0m\n\u001b[1;32m----> 1\u001b[1;33m \u001b[0mtitanic_dataset\u001b[0m\u001b[1;33m.\u001b[0m\u001b[0mdrop\u001b[0m\u001b[1;33m(\u001b[0m\u001b[1;33m[\u001b[0m\u001b[1;34m'PassengerId'\u001b[0m\u001b[1;33m,\u001b[0m \u001b[1;34m'Ticket'\u001b[0m \u001b[1;33m]\u001b[0m\u001b[1;33m,\u001b[0m \u001b[0maxis\u001b[0m\u001b[1;33m=\u001b[0m\u001b[1;36m1\u001b[0m\u001b[1;33m,\u001b[0m \u001b[0minplace\u001b[0m\u001b[1;33m=\u001b[0m\u001b[1;32mTrue\u001b[0m\u001b[1;33m)\u001b[0m\u001b[1;33m\u001b[0m\u001b[1;33m\u001b[0m\u001b[0m\n\u001b[0m",
      "\u001b[1;31mNameError\u001b[0m: name 'titanic_dataset' is not defined"
     ]
    }
   ],
   "source": [
    "titanic_dataset.drop(['PassengerId', 'Ticket' ], axis=1, inplace=True)"
   ]
  },
  {
   "cell_type": "markdown",
   "metadata": {},
   "source": [
    "#### Current Data"
   ]
  },
  {
   "cell_type": "code",
   "execution_count": 17,
   "metadata": {},
   "outputs": [
    {
     "data": {
      "text/html": [
       "<div>\n",
       "<style scoped>\n",
       "    .dataframe tbody tr th:only-of-type {\n",
       "        vertical-align: middle;\n",
       "    }\n",
       "\n",
       "    .dataframe tbody tr th {\n",
       "        vertical-align: top;\n",
       "    }\n",
       "\n",
       "    .dataframe thead th {\n",
       "        text-align: right;\n",
       "    }\n",
       "</style>\n",
       "<table border=\"1\" class=\"dataframe\">\n",
       "  <thead>\n",
       "    <tr style=\"text-align: right;\">\n",
       "      <th></th>\n",
       "      <th>Survived</th>\n",
       "      <th>Pclass</th>\n",
       "      <th>Name</th>\n",
       "      <th>Sex</th>\n",
       "      <th>Age</th>\n",
       "      <th>SibSp</th>\n",
       "      <th>Parch</th>\n",
       "      <th>Fare</th>\n",
       "      <th>Cabin</th>\n",
       "      <th>Embarked</th>\n",
       "    </tr>\n",
       "  </thead>\n",
       "  <tbody>\n",
       "    <tr>\n",
       "      <td>0</td>\n",
       "      <td>0</td>\n",
       "      <td>3</td>\n",
       "      <td>Braund, Mr. Owen Harris</td>\n",
       "      <td>male</td>\n",
       "      <td>22.0</td>\n",
       "      <td>1</td>\n",
       "      <td>0</td>\n",
       "      <td>7.2500</td>\n",
       "      <td>N/A</td>\n",
       "      <td>S</td>\n",
       "    </tr>\n",
       "    <tr>\n",
       "      <td>1</td>\n",
       "      <td>1</td>\n",
       "      <td>1</td>\n",
       "      <td>Cumings, Mrs. John Bradley (Florence Briggs Th...</td>\n",
       "      <td>female</td>\n",
       "      <td>38.0</td>\n",
       "      <td>1</td>\n",
       "      <td>0</td>\n",
       "      <td>71.2833</td>\n",
       "      <td>C85</td>\n",
       "      <td>C</td>\n",
       "    </tr>\n",
       "    <tr>\n",
       "      <td>2</td>\n",
       "      <td>1</td>\n",
       "      <td>3</td>\n",
       "      <td>Heikkinen, Miss. Laina</td>\n",
       "      <td>female</td>\n",
       "      <td>26.0</td>\n",
       "      <td>0</td>\n",
       "      <td>0</td>\n",
       "      <td>7.9250</td>\n",
       "      <td>N/A</td>\n",
       "      <td>S</td>\n",
       "    </tr>\n",
       "    <tr>\n",
       "      <td>3</td>\n",
       "      <td>1</td>\n",
       "      <td>1</td>\n",
       "      <td>Futrelle, Mrs. Jacques Heath (Lily May Peel)</td>\n",
       "      <td>female</td>\n",
       "      <td>35.0</td>\n",
       "      <td>1</td>\n",
       "      <td>0</td>\n",
       "      <td>53.1000</td>\n",
       "      <td>C123</td>\n",
       "      <td>S</td>\n",
       "    </tr>\n",
       "    <tr>\n",
       "      <td>4</td>\n",
       "      <td>0</td>\n",
       "      <td>3</td>\n",
       "      <td>Allen, Mr. William Henry</td>\n",
       "      <td>male</td>\n",
       "      <td>35.0</td>\n",
       "      <td>0</td>\n",
       "      <td>0</td>\n",
       "      <td>8.0500</td>\n",
       "      <td>N/A</td>\n",
       "      <td>S</td>\n",
       "    </tr>\n",
       "  </tbody>\n",
       "</table>\n",
       "</div>"
      ],
      "text/plain": [
       "   Survived  Pclass                                               Name  \\\n",
       "0         0       3                            Braund, Mr. Owen Harris   \n",
       "1         1       1  Cumings, Mrs. John Bradley (Florence Briggs Th...   \n",
       "2         1       3                             Heikkinen, Miss. Laina   \n",
       "3         1       1       Futrelle, Mrs. Jacques Heath (Lily May Peel)   \n",
       "4         0       3                           Allen, Mr. William Henry   \n",
       "\n",
       "      Sex   Age  SibSp  Parch     Fare Cabin Embarked  \n",
       "0    male  22.0      1      0   7.2500   N/A        S  \n",
       "1  female  38.0      1      0  71.2833   C85        C  \n",
       "2  female  26.0      0      0   7.9250   N/A        S  \n",
       "3  female  35.0      1      0  53.1000  C123        S  \n",
       "4    male  35.0      0      0   8.0500   N/A        S  "
      ]
     },
     "execution_count": 17,
     "metadata": {},
     "output_type": "execute_result"
    }
   ],
   "source": [
    "titanic_dataset.head()"
   ]
  },
  {
   "cell_type": "markdown",
   "metadata": {},
   "source": [
    "We just said before that we would remove all irrelevant attributes.<br>\n",
    "* **Are 'Name' and 'Cabin' not irrelevant attribute? Take a minute and think about it.**\n",
    "<img src = \"img/ConfusedEmoji.jpg\" >"
   ]
  },
  {
   "cell_type": "code",
   "execution_count": 18,
   "metadata": {},
   "outputs": [],
   "source": [
    "# Name is not irrelevant, but cabin information is irrelevant in prediction for the survival of the \n",
    "# titanic passengers. Because name is label for each person and could be used as primary identification\n",
    "# attribute."
   ]
  },
  {
   "cell_type": "markdown",
   "metadata": {},
   "source": [
    "### Feature Engineering\n",
    "\n",
    "Yes 'Name' and 'Cabin' seems to be irrelevant but we are not going to remove them yet. There is no need to be confused or surprised, as we are going to introduce a new concept called <font color='blue'>Feature Engineering.</font>\n",
    "\n",
    "**Feature engineering** is the process of transforming raw data into features that better represent the underlying problem to the predictive models, resulting in improved model accuracy on unseen data.\n",
    "\n",
    "**What do experts say about Feature Engineering?**\n",
    "\n",
    "* *feature engineering is another topic which doesn’t seem to merit any review papers or books, or even chapters in books, but it is absolutely vital to ML success. […] Much of the success of machine learning is actually success in engineering features that a learner can understand.* \n",
    "\n",
    "— Scott Locklin, in “Neglected machine learning ideas”\n",
    "\n",
    "* *Actually the success of all Machine Learning algorithms depends on how you present the data.*\n",
    "\n",
    "— Mohammad Pezeshki, answer to “What are some general tips on feature selection and engineering that every data scientist should know?”\n",
    "\n",
    "* *The algorithms we used are very standard for Kagglers. […]  We spent most of our efforts in feature engineering.*\n",
    "\n",
    "— Xavier Conort, on “Q&A with Xavier Conort” on winning the Flight Quest challenge on Kaggle\n",
    "\n",
    "* *“At the end of the day, some machine learning projects succeed and some fail. What makes the difference? Easily the most important factor is the features used.”*\n",
    "\n",
    "— Prof. Pedro Domingos\n",
    "\n",
    "**But what really is Feature Engineering?**\n",
    "\n",
    "I believe that the best way to understand something new is simply by doing it. <br>For further readings you can see references or find some very good material online.\n",
    "\n",
    "<img src='img/the-3-secrets-of-highly-successful-graduates-78-638.jpg'>"
   ]
  },
  {
   "cell_type": "markdown",
   "metadata": {},
   "source": [
    "#### Attribute = Name"
   ]
  },
  {
   "cell_type": "code",
   "execution_count": 19,
   "metadata": {},
   "outputs": [
    {
     "data": {
      "text/plain": [
       "0                                Braund, Mr. Owen Harris\n",
       "1      Cumings, Mrs. John Bradley (Florence Briggs Th...\n",
       "2                                 Heikkinen, Miss. Laina\n",
       "3           Futrelle, Mrs. Jacques Heath (Lily May Peel)\n",
       "4                               Allen, Mr. William Henry\n",
       "                             ...                        \n",
       "886                                Montvila, Rev. Juozas\n",
       "887                         Graham, Miss. Margaret Edith\n",
       "888             Johnston, Miss. Catherine Helen \"Carrie\"\n",
       "889                                Behr, Mr. Karl Howell\n",
       "890                                  Dooley, Mr. Patrick\n",
       "Name: Name, Length: 891, dtype: object"
      ]
     },
     "execution_count": 19,
     "metadata": {},
     "output_type": "execute_result"
    }
   ],
   "source": [
    "###\n",
    "### Print all names in column 'Name'\n",
    "### Write your code here\n",
    "###\n",
    "titanic_dataset['Name']"
   ]
  },
  {
   "cell_type": "code",
   "execution_count": 20,
   "metadata": {},
   "outputs": [
    {
     "data": {
      "text/plain": [
       "array(['Capt', 'Col', 'Don', 'Dr', 'Jonkheer', 'Lady', 'Major', 'Master',\n",
       "       'Miss', 'Mlle', 'Mme', 'Mr', 'Mrs', 'Ms', 'Rev', 'Sir',\n",
       "       'the Countess'], dtype='<U12')"
      ]
     },
     "execution_count": 20,
     "metadata": {},
     "output_type": "execute_result"
    }
   ],
   "source": [
    "###\n",
    "### With every name of passenger you would find an extra title i.e Mr., Mrs., Miss. and e.t.c.\n",
    "### Go ahead and take a deeper look at the name of passengers.\n",
    "###\n",
    "### I suspect that this title might be informative\n",
    "### Create a new column with name 'title' and store the title of each passenger\n",
    "### You might have to write a regular expression for extracting title from names.\n",
    "###\n",
    "### Write your code here\n",
    "###\n",
    "titles = []\n",
    "for i in titanic_dataset['Name']:\n",
    "    titles.append(i[i.find(',')+2:i.find('.')])\n",
    "title = np.array(titles)\n",
    "np.unique(title)"
   ]
  },
  {
   "cell_type": "code",
   "execution_count": 21,
   "metadata": {},
   "outputs": [],
   "source": [
    "###\n",
    "### Some of the titles might be very rare i.e only 1 or 2 passengers\n",
    "### Group all such variables into one category 'Rare' and print all the unique entries in the column 'Title'\n",
    "### Now the title attribute would have categories like Mr, Miss, Rare\n",
    "###\n",
    "### Write your code here\n",
    "###\n",
    "\n",
    "Title_counts = np.unique(title,return_counts= True)\n",
    "Rare = Title_counts[0][Title_counts[1]<5]\n",
    "tmp = []\n",
    "for i in title:\n",
    "    if not(i in Rare):\n",
    "        tmp.append(i)\n",
    "    else:\n",
    "        tmp.append('Rare')\n",
    "titanic_dataset['Title'] = pd.Series(tmp, index = titanic_dataset.index)"
   ]
  },
  {
   "cell_type": "code",
   "execution_count": 22,
   "metadata": {},
   "outputs": [],
   "source": [
    "###\n",
    "### Finally drop the 'Name' column from dataframe\n",
    "### Write your code here\n",
    "###\n",
    "titanic_dataset.drop('Name',axis = 1, inplace = True)"
   ]
  },
  {
   "cell_type": "markdown",
   "metadata": {},
   "source": [
    "#### Members of family"
   ]
  },
  {
   "cell_type": "code",
   "execution_count": 23,
   "metadata": {},
   "outputs": [],
   "source": [
    "###\n",
    "### SibSp represents # of siblings/spouses aboard the ship\n",
    "### Parch represents # of parents/children aboard the titanic\n",
    "###\n",
    "### If we add these two variables we can get the family size of each passenger.\n",
    "### Create a new variable called 'Members' by adding SibSp and Parch for each passenger\n",
    "### \n",
    "### Write your code here\n",
    "###\n",
    "titanic_dataset['Members'] = pd.Series(titanic_dataset['SibSp'] + titanic_dataset['Parch'], index = titanic_dataset.index)\n"
   ]
  },
  {
   "cell_type": "code",
   "execution_count": 24,
   "metadata": {},
   "outputs": [],
   "source": [
    "### \n",
    "### If the count add up to zero it means the person is travelling alone else not.\n",
    "### Create a new boolean column called 'Alone'\n",
    "### It would be 1 if the passenger is travelling alone else 0.\n",
    "###\n",
    "### Write your code here\n",
    "###\n",
    "titanic_dataset['Alone'] = pd.Series(titanic_dataset['Members']== 0 , index = titanic_dataset.index)\n",
    "# titanic_dataset['Alone']"
   ]
  },
  {
   "cell_type": "markdown",
   "metadata": {},
   "source": [
    "#### Age"
   ]
  },
  {
   "cell_type": "code",
   "execution_count": 25,
   "metadata": {},
   "outputs": [],
   "source": [
    "###\n",
    "### In the first Homework you might have replaced missing values with mean of column.\n",
    "### It is absolutely fine to use the mean. \n",
    "### However, an alternative approach could be to replace using grouping.\n",
    "### For example, we would group all males and females and take their mean separately\n",
    "### Now we would check that if the passenger is male we would replace it's missing age with male's mean and vice versa.\n",
    "###\n",
    "### Implement the above strategy for replacing missing age values\n",
    "###\n",
    "### Write your code here\n",
    "###\n",
    "tmp_group = titanic_dataset.groupby('Sex').mean()['Age']\n",
    "male_age = (titanic_dataset.loc[titanic_dataset['Sex'] == 'male' ,'Age']).fillna(value = tmp_group['male'],\n",
    "                                                                      inplace = False)\n",
    "female_age = (titanic_dataset.loc[titanic_dataset['Sex'] == 'female','Age']).fillna(value = tmp_group['female'],\n",
    "                                                                       inplace = False)\n",
    "titanic_dataset['n_Age'] = pd.Series(male_age,index = male_age.index)\n",
    "titanic_dataset['n_Age'].update(female_age) "
   ]
  },
  {
   "cell_type": "code",
   "execution_count": 26,
   "metadata": {},
   "outputs": [
    {
     "data": {
      "text/html": [
       "<div>\n",
       "<style scoped>\n",
       "    .dataframe tbody tr th:only-of-type {\n",
       "        vertical-align: middle;\n",
       "    }\n",
       "\n",
       "    .dataframe tbody tr th {\n",
       "        vertical-align: top;\n",
       "    }\n",
       "\n",
       "    .dataframe thead th {\n",
       "        text-align: right;\n",
       "    }\n",
       "</style>\n",
       "<table border=\"1\" class=\"dataframe\">\n",
       "  <thead>\n",
       "    <tr style=\"text-align: right;\">\n",
       "      <th></th>\n",
       "      <th>Survived</th>\n",
       "      <th>Pclass</th>\n",
       "      <th>Sex</th>\n",
       "      <th>Age</th>\n",
       "      <th>SibSp</th>\n",
       "      <th>Parch</th>\n",
       "      <th>Fare</th>\n",
       "      <th>Cabin</th>\n",
       "      <th>Embarked</th>\n",
       "      <th>Title</th>\n",
       "      <th>Members</th>\n",
       "      <th>Alone</th>\n",
       "      <th>n_Age</th>\n",
       "    </tr>\n",
       "  </thead>\n",
       "  <tbody>\n",
       "    <tr>\n",
       "      <td>0</td>\n",
       "      <td>0</td>\n",
       "      <td>3</td>\n",
       "      <td>male</td>\n",
       "      <td>22.0</td>\n",
       "      <td>1</td>\n",
       "      <td>0</td>\n",
       "      <td>7.2500</td>\n",
       "      <td>N/A</td>\n",
       "      <td>S</td>\n",
       "      <td>Mr</td>\n",
       "      <td>1</td>\n",
       "      <td>False</td>\n",
       "      <td>22.000000</td>\n",
       "    </tr>\n",
       "    <tr>\n",
       "      <td>1</td>\n",
       "      <td>1</td>\n",
       "      <td>1</td>\n",
       "      <td>female</td>\n",
       "      <td>38.0</td>\n",
       "      <td>1</td>\n",
       "      <td>0</td>\n",
       "      <td>71.2833</td>\n",
       "      <td>C85</td>\n",
       "      <td>C</td>\n",
       "      <td>Mrs</td>\n",
       "      <td>1</td>\n",
       "      <td>False</td>\n",
       "      <td>38.000000</td>\n",
       "    </tr>\n",
       "    <tr>\n",
       "      <td>2</td>\n",
       "      <td>1</td>\n",
       "      <td>3</td>\n",
       "      <td>female</td>\n",
       "      <td>26.0</td>\n",
       "      <td>0</td>\n",
       "      <td>0</td>\n",
       "      <td>7.9250</td>\n",
       "      <td>N/A</td>\n",
       "      <td>S</td>\n",
       "      <td>Miss</td>\n",
       "      <td>0</td>\n",
       "      <td>True</td>\n",
       "      <td>26.000000</td>\n",
       "    </tr>\n",
       "    <tr>\n",
       "      <td>3</td>\n",
       "      <td>1</td>\n",
       "      <td>1</td>\n",
       "      <td>female</td>\n",
       "      <td>35.0</td>\n",
       "      <td>1</td>\n",
       "      <td>0</td>\n",
       "      <td>53.1000</td>\n",
       "      <td>C123</td>\n",
       "      <td>S</td>\n",
       "      <td>Mrs</td>\n",
       "      <td>1</td>\n",
       "      <td>False</td>\n",
       "      <td>35.000000</td>\n",
       "    </tr>\n",
       "    <tr>\n",
       "      <td>4</td>\n",
       "      <td>0</td>\n",
       "      <td>3</td>\n",
       "      <td>male</td>\n",
       "      <td>35.0</td>\n",
       "      <td>0</td>\n",
       "      <td>0</td>\n",
       "      <td>8.0500</td>\n",
       "      <td>N/A</td>\n",
       "      <td>S</td>\n",
       "      <td>Mr</td>\n",
       "      <td>0</td>\n",
       "      <td>True</td>\n",
       "      <td>35.000000</td>\n",
       "    </tr>\n",
       "    <tr>\n",
       "      <td>...</td>\n",
       "      <td>...</td>\n",
       "      <td>...</td>\n",
       "      <td>...</td>\n",
       "      <td>...</td>\n",
       "      <td>...</td>\n",
       "      <td>...</td>\n",
       "      <td>...</td>\n",
       "      <td>...</td>\n",
       "      <td>...</td>\n",
       "      <td>...</td>\n",
       "      <td>...</td>\n",
       "      <td>...</td>\n",
       "      <td>...</td>\n",
       "    </tr>\n",
       "    <tr>\n",
       "      <td>886</td>\n",
       "      <td>0</td>\n",
       "      <td>2</td>\n",
       "      <td>male</td>\n",
       "      <td>27.0</td>\n",
       "      <td>0</td>\n",
       "      <td>0</td>\n",
       "      <td>13.0000</td>\n",
       "      <td>N/A</td>\n",
       "      <td>S</td>\n",
       "      <td>Rev</td>\n",
       "      <td>0</td>\n",
       "      <td>True</td>\n",
       "      <td>27.000000</td>\n",
       "    </tr>\n",
       "    <tr>\n",
       "      <td>887</td>\n",
       "      <td>1</td>\n",
       "      <td>1</td>\n",
       "      <td>female</td>\n",
       "      <td>19.0</td>\n",
       "      <td>0</td>\n",
       "      <td>0</td>\n",
       "      <td>30.0000</td>\n",
       "      <td>B42</td>\n",
       "      <td>S</td>\n",
       "      <td>Miss</td>\n",
       "      <td>0</td>\n",
       "      <td>True</td>\n",
       "      <td>19.000000</td>\n",
       "    </tr>\n",
       "    <tr>\n",
       "      <td>888</td>\n",
       "      <td>0</td>\n",
       "      <td>3</td>\n",
       "      <td>female</td>\n",
       "      <td>NaN</td>\n",
       "      <td>1</td>\n",
       "      <td>2</td>\n",
       "      <td>23.4500</td>\n",
       "      <td>N/A</td>\n",
       "      <td>S</td>\n",
       "      <td>Miss</td>\n",
       "      <td>3</td>\n",
       "      <td>False</td>\n",
       "      <td>27.915709</td>\n",
       "    </tr>\n",
       "    <tr>\n",
       "      <td>889</td>\n",
       "      <td>1</td>\n",
       "      <td>1</td>\n",
       "      <td>male</td>\n",
       "      <td>26.0</td>\n",
       "      <td>0</td>\n",
       "      <td>0</td>\n",
       "      <td>30.0000</td>\n",
       "      <td>C148</td>\n",
       "      <td>C</td>\n",
       "      <td>Mr</td>\n",
       "      <td>0</td>\n",
       "      <td>True</td>\n",
       "      <td>26.000000</td>\n",
       "    </tr>\n",
       "    <tr>\n",
       "      <td>890</td>\n",
       "      <td>0</td>\n",
       "      <td>3</td>\n",
       "      <td>male</td>\n",
       "      <td>32.0</td>\n",
       "      <td>0</td>\n",
       "      <td>0</td>\n",
       "      <td>7.7500</td>\n",
       "      <td>N/A</td>\n",
       "      <td>Q</td>\n",
       "      <td>Mr</td>\n",
       "      <td>0</td>\n",
       "      <td>True</td>\n",
       "      <td>32.000000</td>\n",
       "    </tr>\n",
       "  </tbody>\n",
       "</table>\n",
       "<p>891 rows × 13 columns</p>\n",
       "</div>"
      ],
      "text/plain": [
       "     Survived  Pclass     Sex   Age  SibSp  Parch     Fare Cabin Embarked  \\\n",
       "0           0       3    male  22.0      1      0   7.2500   N/A        S   \n",
       "1           1       1  female  38.0      1      0  71.2833   C85        C   \n",
       "2           1       3  female  26.0      0      0   7.9250   N/A        S   \n",
       "3           1       1  female  35.0      1      0  53.1000  C123        S   \n",
       "4           0       3    male  35.0      0      0   8.0500   N/A        S   \n",
       "..        ...     ...     ...   ...    ...    ...      ...   ...      ...   \n",
       "886         0       2    male  27.0      0      0  13.0000   N/A        S   \n",
       "887         1       1  female  19.0      0      0  30.0000   B42        S   \n",
       "888         0       3  female   NaN      1      2  23.4500   N/A        S   \n",
       "889         1       1    male  26.0      0      0  30.0000  C148        C   \n",
       "890         0       3    male  32.0      0      0   7.7500   N/A        Q   \n",
       "\n",
       "    Title  Members  Alone      n_Age  \n",
       "0      Mr        1  False  22.000000  \n",
       "1     Mrs        1  False  38.000000  \n",
       "2    Miss        0   True  26.000000  \n",
       "3     Mrs        1  False  35.000000  \n",
       "4      Mr        0   True  35.000000  \n",
       "..    ...      ...    ...        ...  \n",
       "886   Rev        0   True  27.000000  \n",
       "887  Miss        0   True  19.000000  \n",
       "888  Miss        3  False  27.915709  \n",
       "889    Mr        0   True  26.000000  \n",
       "890    Mr        0   True  32.000000  \n",
       "\n",
       "[891 rows x 13 columns]"
      ]
     },
     "execution_count": 26,
     "metadata": {},
     "output_type": "execute_result"
    }
   ],
   "source": [
    "titanic_dataset"
   ]
  },
  {
   "cell_type": "code",
   "execution_count": 27,
   "metadata": {},
   "outputs": [],
   "source": [
    "### Has Cabin"
   ]
  },
  {
   "cell_type": "code",
   "execution_count": 28,
   "metadata": {},
   "outputs": [],
   "source": [
    "###\n",
    "### Check total null values in the column 'Cabin'\n",
    "### You might notice that it has a lot of null values.\n",
    "### A natural choice would be to immediately drop this variable.\n",
    "### However, this variable might help us differentiate among passengers having cabin or not.\n",
    "###\n",
    "### Create a new boolean column called 'has_cabin' \n",
    "### It would be 1 if there is some value in cabin else it would be zero\n",
    "### i.e. if there is no cabin then we would put a '0' in has_cabin column\n",
    "###\n",
    "### Write your code here\n",
    "###\n",
    "\n",
    "titanic_dataset['has_cabin'] = pd.Series(titanic_dataset['Cabin'] != 'N/A',index = titanic_dataset.index)\n"
   ]
  },
  {
   "cell_type": "code",
   "execution_count": 29,
   "metadata": {},
   "outputs": [],
   "source": [
    "###\n",
    "### Remove the column 'Cabin'\n",
    "###\n",
    "titanic_dataset.drop('Cabin',axis = 1, inplace = True)"
   ]
  },
  {
   "cell_type": "code",
   "execution_count": 30,
   "metadata": {},
   "outputs": [
    {
     "data": {
      "text/html": [
       "<div>\n",
       "<style scoped>\n",
       "    .dataframe tbody tr th:only-of-type {\n",
       "        vertical-align: middle;\n",
       "    }\n",
       "\n",
       "    .dataframe tbody tr th {\n",
       "        vertical-align: top;\n",
       "    }\n",
       "\n",
       "    .dataframe thead th {\n",
       "        text-align: right;\n",
       "    }\n",
       "</style>\n",
       "<table border=\"1\" class=\"dataframe\">\n",
       "  <thead>\n",
       "    <tr style=\"text-align: right;\">\n",
       "      <th></th>\n",
       "      <th>Survived</th>\n",
       "      <th>Pclass</th>\n",
       "      <th>Sex</th>\n",
       "      <th>Age</th>\n",
       "      <th>SibSp</th>\n",
       "      <th>Parch</th>\n",
       "      <th>Fare</th>\n",
       "      <th>Embarked</th>\n",
       "      <th>Title</th>\n",
       "      <th>Members</th>\n",
       "      <th>Alone</th>\n",
       "      <th>n_Age</th>\n",
       "      <th>has_cabin</th>\n",
       "    </tr>\n",
       "  </thead>\n",
       "  <tbody>\n",
       "    <tr>\n",
       "      <td>0</td>\n",
       "      <td>0</td>\n",
       "      <td>3</td>\n",
       "      <td>male</td>\n",
       "      <td>22.0</td>\n",
       "      <td>1</td>\n",
       "      <td>0</td>\n",
       "      <td>7.2500</td>\n",
       "      <td>S</td>\n",
       "      <td>Mr</td>\n",
       "      <td>1</td>\n",
       "      <td>False</td>\n",
       "      <td>22.000000</td>\n",
       "      <td>False</td>\n",
       "    </tr>\n",
       "    <tr>\n",
       "      <td>1</td>\n",
       "      <td>1</td>\n",
       "      <td>1</td>\n",
       "      <td>female</td>\n",
       "      <td>38.0</td>\n",
       "      <td>1</td>\n",
       "      <td>0</td>\n",
       "      <td>71.2833</td>\n",
       "      <td>C</td>\n",
       "      <td>Mrs</td>\n",
       "      <td>1</td>\n",
       "      <td>False</td>\n",
       "      <td>38.000000</td>\n",
       "      <td>True</td>\n",
       "    </tr>\n",
       "    <tr>\n",
       "      <td>2</td>\n",
       "      <td>1</td>\n",
       "      <td>3</td>\n",
       "      <td>female</td>\n",
       "      <td>26.0</td>\n",
       "      <td>0</td>\n",
       "      <td>0</td>\n",
       "      <td>7.9250</td>\n",
       "      <td>S</td>\n",
       "      <td>Miss</td>\n",
       "      <td>0</td>\n",
       "      <td>True</td>\n",
       "      <td>26.000000</td>\n",
       "      <td>False</td>\n",
       "    </tr>\n",
       "    <tr>\n",
       "      <td>3</td>\n",
       "      <td>1</td>\n",
       "      <td>1</td>\n",
       "      <td>female</td>\n",
       "      <td>35.0</td>\n",
       "      <td>1</td>\n",
       "      <td>0</td>\n",
       "      <td>53.1000</td>\n",
       "      <td>S</td>\n",
       "      <td>Mrs</td>\n",
       "      <td>1</td>\n",
       "      <td>False</td>\n",
       "      <td>35.000000</td>\n",
       "      <td>True</td>\n",
       "    </tr>\n",
       "    <tr>\n",
       "      <td>4</td>\n",
       "      <td>0</td>\n",
       "      <td>3</td>\n",
       "      <td>male</td>\n",
       "      <td>35.0</td>\n",
       "      <td>0</td>\n",
       "      <td>0</td>\n",
       "      <td>8.0500</td>\n",
       "      <td>S</td>\n",
       "      <td>Mr</td>\n",
       "      <td>0</td>\n",
       "      <td>True</td>\n",
       "      <td>35.000000</td>\n",
       "      <td>False</td>\n",
       "    </tr>\n",
       "    <tr>\n",
       "      <td>...</td>\n",
       "      <td>...</td>\n",
       "      <td>...</td>\n",
       "      <td>...</td>\n",
       "      <td>...</td>\n",
       "      <td>...</td>\n",
       "      <td>...</td>\n",
       "      <td>...</td>\n",
       "      <td>...</td>\n",
       "      <td>...</td>\n",
       "      <td>...</td>\n",
       "      <td>...</td>\n",
       "      <td>...</td>\n",
       "      <td>...</td>\n",
       "    </tr>\n",
       "    <tr>\n",
       "      <td>886</td>\n",
       "      <td>0</td>\n",
       "      <td>2</td>\n",
       "      <td>male</td>\n",
       "      <td>27.0</td>\n",
       "      <td>0</td>\n",
       "      <td>0</td>\n",
       "      <td>13.0000</td>\n",
       "      <td>S</td>\n",
       "      <td>Rev</td>\n",
       "      <td>0</td>\n",
       "      <td>True</td>\n",
       "      <td>27.000000</td>\n",
       "      <td>False</td>\n",
       "    </tr>\n",
       "    <tr>\n",
       "      <td>887</td>\n",
       "      <td>1</td>\n",
       "      <td>1</td>\n",
       "      <td>female</td>\n",
       "      <td>19.0</td>\n",
       "      <td>0</td>\n",
       "      <td>0</td>\n",
       "      <td>30.0000</td>\n",
       "      <td>S</td>\n",
       "      <td>Miss</td>\n",
       "      <td>0</td>\n",
       "      <td>True</td>\n",
       "      <td>19.000000</td>\n",
       "      <td>True</td>\n",
       "    </tr>\n",
       "    <tr>\n",
       "      <td>888</td>\n",
       "      <td>0</td>\n",
       "      <td>3</td>\n",
       "      <td>female</td>\n",
       "      <td>NaN</td>\n",
       "      <td>1</td>\n",
       "      <td>2</td>\n",
       "      <td>23.4500</td>\n",
       "      <td>S</td>\n",
       "      <td>Miss</td>\n",
       "      <td>3</td>\n",
       "      <td>False</td>\n",
       "      <td>27.915709</td>\n",
       "      <td>False</td>\n",
       "    </tr>\n",
       "    <tr>\n",
       "      <td>889</td>\n",
       "      <td>1</td>\n",
       "      <td>1</td>\n",
       "      <td>male</td>\n",
       "      <td>26.0</td>\n",
       "      <td>0</td>\n",
       "      <td>0</td>\n",
       "      <td>30.0000</td>\n",
       "      <td>C</td>\n",
       "      <td>Mr</td>\n",
       "      <td>0</td>\n",
       "      <td>True</td>\n",
       "      <td>26.000000</td>\n",
       "      <td>True</td>\n",
       "    </tr>\n",
       "    <tr>\n",
       "      <td>890</td>\n",
       "      <td>0</td>\n",
       "      <td>3</td>\n",
       "      <td>male</td>\n",
       "      <td>32.0</td>\n",
       "      <td>0</td>\n",
       "      <td>0</td>\n",
       "      <td>7.7500</td>\n",
       "      <td>Q</td>\n",
       "      <td>Mr</td>\n",
       "      <td>0</td>\n",
       "      <td>True</td>\n",
       "      <td>32.000000</td>\n",
       "      <td>False</td>\n",
       "    </tr>\n",
       "  </tbody>\n",
       "</table>\n",
       "<p>891 rows × 13 columns</p>\n",
       "</div>"
      ],
      "text/plain": [
       "     Survived  Pclass     Sex   Age  SibSp  Parch     Fare Embarked Title  \\\n",
       "0           0       3    male  22.0      1      0   7.2500        S    Mr   \n",
       "1           1       1  female  38.0      1      0  71.2833        C   Mrs   \n",
       "2           1       3  female  26.0      0      0   7.9250        S  Miss   \n",
       "3           1       1  female  35.0      1      0  53.1000        S   Mrs   \n",
       "4           0       3    male  35.0      0      0   8.0500        S    Mr   \n",
       "..        ...     ...     ...   ...    ...    ...      ...      ...   ...   \n",
       "886         0       2    male  27.0      0      0  13.0000        S   Rev   \n",
       "887         1       1  female  19.0      0      0  30.0000        S  Miss   \n",
       "888         0       3  female   NaN      1      2  23.4500        S  Miss   \n",
       "889         1       1    male  26.0      0      0  30.0000        C    Mr   \n",
       "890         0       3    male  32.0      0      0   7.7500        Q    Mr   \n",
       "\n",
       "     Members  Alone      n_Age  has_cabin  \n",
       "0          1  False  22.000000      False  \n",
       "1          1  False  38.000000       True  \n",
       "2          0   True  26.000000      False  \n",
       "3          1  False  35.000000       True  \n",
       "4          0   True  35.000000      False  \n",
       "..       ...    ...        ...        ...  \n",
       "886        0   True  27.000000      False  \n",
       "887        0   True  19.000000       True  \n",
       "888        3  False  27.915709      False  \n",
       "889        0   True  26.000000       True  \n",
       "890        0   True  32.000000      False  \n",
       "\n",
       "[891 rows x 13 columns]"
      ]
     },
     "execution_count": 30,
     "metadata": {},
     "output_type": "execute_result"
    }
   ],
   "source": [
    "titanic_dataset"
   ]
  },
  {
   "cell_type": "markdown",
   "metadata": {},
   "source": [
    "Probably now you would have more features then before. Feature Engineering is an art, coming up with meaningful features is a big skill and comes by domain knowledge and practice.\n",
    "* You are free to play around and come up with your own features such that they are also useful in prediction."
   ]
  },
  {
   "cell_type": "markdown",
   "metadata": {},
   "source": [
    "### Pre-processing on Numeric Data"
   ]
  },
  {
   "cell_type": "markdown",
   "metadata": {},
   "source": [
    "# Transformations\n",
    "\n",
    "A variable transformation refers to a transformation that is applied to all the values of a variable. For example, if only the magnitude of a variable is important, then the values of the variable can be transformed by taking the absolute value. If $x$ is a variable, then examples of such transformations include $x^k$, $log(x)$, $e^x$, $\\sqrt{x}$ and others.\n",
    "\n",
    "\n",
    "#### Standardization\n",
    "\n",
    "The result of standardization (or Z-score normalization) is that the features will be rescaled so that they’ll have the properties of a standard normal distribution with $\\mu = 0$ and $\\sigma = 1$, where $\\mu$ is the mean (average) and $\\sigma$ is the standard deviation;\n",
    "\n",
    "Standard scores (also called z scores) of the samples are calculated as follows:\n",
    "\n",
    "$$z = \\frac{x-\\mu}{\\sigma}$$\n",
    "\n",
    "Standardizing the features so that they are centered around 0 with a standard deviation of 1 is not only important if we are comparing measurements that have different units, but it is also a general requirement for many machine learning algorithms. Intuitively, we can think of gradient descent as a prominent example (an optimization algorithm often used in logistic regression, SVMs, perceptrons, neural networks etc.); with features being on different scales, certain weights may update faster than others since the feature values $x_j$ play a role in the weight updates.\n",
    "\n",
    "#### Normalization\n",
    "\n",
    "An alternative approach to Z-score normalization (or standardization) is the so-called Min-Max scaling (often also simply called “Min Max Normalization”).\n",
    "In this approach, the data is scaled to a fixed range - usually 0 to 1.\n",
    "\n",
    "A Min-Max scaling is typically done via the following equation:\n",
    "\n",
    "$$ X_{norm} = \\frac{X - X_{min}}{X_{max} - X_{min}}$$\n",
    "\n",
    "#### Discretization\n",
    "\n",
    "Discretization(binning) is an unsupervised method that transforms numerical variable into categorical counterparts but do not use the target (class) information. Equal Width and Equal Frequency are two unsupervised binning methods.\n",
    "\n",
    " \t\t\n",
    "##### 1- Equal Width Binning\n",
    "The algorithm divides the data into $k$ intervals of equal size. The width of intervals is:\t\t\n",
    "$$ w = \\frac{max-min}{k}$$\n",
    "\n",
    "And the interval boundaries are:\t\n",
    "\n",
    "$$ min+w, min+2w, ... , min+(k-1)w $$\n",
    "\n",
    "##### 2- Equal Frequency Binning\n",
    "The algorithm divides the data into $k$ groups which each group contains approximately same number of values. For the both methods, the best way of determining $k$ is by looking at the histogram and try different intervals or groups.\t"
   ]
  },
  {
   "cell_type": "code",
   "execution_count": 31,
   "metadata": {},
   "outputs": [],
   "source": [
    "def gaussian_transform( data ):\n",
    "    \"\"\"\n",
    "    There are some special transformations that convert a Non-Gaussian Distribution to Gaussian Distribution.\n",
    "    Implement the function gaussian_transform that takes as input a numeric array and converts it to gaussian.\n",
    "    Do not use any built-in library. You have to implement this function yourself.\n",
    "    \"\"\"\n",
    "    meu= data.describe()['mean']\n",
    "    sigma = data.describe()['std']\n",
    "    return 1 *np.exp(-1*(np.square((data-meu)/(2*sigma))))"
   ]
  },
  {
   "cell_type": "code",
   "execution_count": null,
   "metadata": {},
   "outputs": [],
   "source": []
  },
  {
   "cell_type": "code",
   "execution_count": 32,
   "metadata": {},
   "outputs": [],
   "source": [
    "def standardize( data ):\n",
    "    \"\"\"\n",
    "    Implement the function standardize that takes as input a numeric array and returns it's standardize version.\n",
    "    Do not use any built-in library. You have to implement this function yourself.\n",
    "    \"\"\"\n",
    "    meu= data.describe()['mean']\n",
    "    sigma = data.describe()['std']\n",
    "    data = np.array(data)\n",
    "    Z = (data - meu)/sigma\n",
    "    data = Z\n",
    "    return data"
   ]
  },
  {
   "cell_type": "code",
   "execution_count": 33,
   "metadata": {},
   "outputs": [],
   "source": [
    "def normalize( data ):\n",
    "    \"\"\"\n",
    "    Implement the function normalize that takes as input a numeric array and returns it's normalized version.\n",
    "    Do not use any built-in library. You have to implement this function yourself.\n",
    "    \"\"\"\n",
    "    max_d = data.describe()['max']\n",
    "    min_d = data.describe()['min']\n",
    "    \n",
    "    data = np.array(data)\n",
    "    data = (data - min_d)/(max_d - min_d)\n",
    "    return data"
   ]
  },
  {
   "cell_type": "code",
   "execution_count": 34,
   "metadata": {},
   "outputs": [],
   "source": [
    "def discretize( data, method, k ):\n",
    "    \"\"\"\n",
    "    Implement the function discretize that takes as input a numeric array and returns it's binned version.\n",
    "    It also takes in an argument \"method\" whose value can be \"equal_width\" or \"equal_freq\". \n",
    "    k represents # of bins that should also be passed by the user\n",
    "    Implement both the variants inside this function.\n",
    "    Do not use any built-in library. You have to implement this function yourself.\n",
    "    \"\"\"\n",
    "    if method == 'equal_width':\n",
    "        bin_data = dict()\n",
    "        mind = data.describe()['min']\n",
    "        maxd = data.describe()['max']\n",
    "        w = (data.describe()['max'] - data.describe()['min'])/ k\n",
    "        data = np.array(data)\n",
    "        n_data = np.zeros(k)\n",
    "        data = np.sort(data)\n",
    "        connt = 0 \n",
    "        for i in range(0,int(maxd)+1,k):\n",
    "            n_data[connt] = data[i]\n",
    "            connt+=1\n",
    "        return n_data\n",
    "    elif method == 'equal_freq':\n",
    "        mind = data.describe()['min']\n",
    "        maxd = data.describe()['max']\n",
    "        data = np.array(data)\n",
    "        w= int(len(data) / k)\n",
    "        conter = 0\n",
    "        data = np.array(data)\n",
    "        data = np.sort(data)\n",
    "        n_data = np.zeros(k)\n",
    "        connt = 0 \n",
    "        print(data[10])\n",
    "        for i in range(0,len(data)-w,w):\n",
    "            n_data[connt] = data[i]\n",
    "            connt+=1\n",
    "        return n_data"
   ]
  },
  {
   "cell_type": "code",
   "execution_count": 35,
   "metadata": {},
   "outputs": [
    {
     "name": "stdout",
     "output_type": "stream",
     "text": [
      "1.0\n"
     ]
    },
    {
     "data": {
      "text/plain": [
       "[<matplotlib.lines.Line2D at 0xef42970>]"
      ]
     },
     "execution_count": 35,
     "metadata": {},
     "output_type": "execute_result"
    },
    {
     "data": {
      "image/png": "[encoded data removed]",
      "text/plain": [
       "<Figure size 432x288 with 1 Axes>"
      ]
     },
     "metadata": {
      "needs_background": "light"
     },
     "output_type": "display_data"
    },
    {
     "data": {
      "image/png": "[encoded data removed]",
      "text/plain": [
       "<Figure size 432x288 with 1 Axes>"
      ]
     },
     "metadata": {
      "needs_background": "light"
     },
     "output_type": "display_data"
    },
    {
     "data": {
      "image/png": "[encoded data removed]",
      "text/plain": [
       "<Figure size 432x288 with 1 Axes>"
      ]
     },
     "metadata": {
      "needs_background": "light"
     },
     "output_type": "display_data"
    },
    {
     "data": {
      "image/png": "[encoded data removed]",
      "text/plain": [
       "<Figure size 432x288 with 1 Axes>"
      ]
     },
     "metadata": {
      "needs_background": "light"
     },
     "output_type": "display_data"
    },
    {
     "data": {
      "image/png": "[encoded data removed]",
      "text/plain": [
       "<Figure size 432x288 with 1 Axes>"
      ]
     },
     "metadata": {
      "needs_background": "light"
     },
     "output_type": "display_data"
    },
    {
     "data": {
      "image/png": "[encoded data removed]",
      "text/plain": [
       "<Figure size 432x288 with 1 Axes>"
      ]
     },
     "metadata": {
      "needs_background": "light"
     },
     "output_type": "display_data"
    }
   ],
   "source": [
    "### Test Pre-processing\n",
    "\n",
    "### Use the age variable as input.\n",
    "### Test the functions normalize(), standardize() and discretize()\n",
    "### Display your result in the form of graphs\n",
    "### 1 - plot a graph for original age\n",
    "### 2 - plot a graph for gaussian transformed age\n",
    "### 3 - plot a graph for standardized age\n",
    "### 4 - plot a graph for normalized age\n",
    "### 5 - plot a graph for discretized age with equal_width\n",
    "### 6 - plot a graph for discretized age with equal_frequency\n",
    "age = titanic_dataset['n_Age']\n",
    "plt.figure()\n",
    "plt.plot(age)\n",
    "plt.figure()\n",
    "g = gaussian_transform(age)\n",
    "plt.scatter(age,g)\n",
    "plt.figure()\n",
    "stda = standardize(age)\n",
    "plt.scatter(stda,g)\n",
    "plt.figure()\n",
    "norm = normalize(g)\n",
    "plt.scatter(stda,norm)\n",
    "\n",
    "plt.figure()\n",
    "equal_width = discretize( age, method = 'equal_width', k = 10 )\n",
    "ran = list(range(len(equal_width)))\n",
    "plt.bar(ran,equal_width)\n",
    "\n",
    "plt.figure()\n",
    "equal_freq = discretize( age, method = 'equal_freq', k = 10 )\n",
    "ran = list(range(len(equal_width)))\n",
    "plt.plot(equal_freq)"
   ]
  },
  {
   "cell_type": "markdown",
   "metadata": {},
   "source": [
    "#### Encoding"
   ]
  },
  {
   "cell_type": "code",
   "execution_count": 36,
   "metadata": {},
   "outputs": [],
   "source": [
    "### \n",
    "### Encode your categorical/strings data to numeric format\n",
    "### Do not use any built-in library\n",
    "### Write your code here\n",
    "###\n",
    "titanic_dataset['Sex'] = pd.Categorical(titanic_dataset['Sex']).codes\n",
    "titanic_dataset['Title'] = pd.Categorical(titanic_dataset['Title']).codes\n",
    "titanic_dataset['Embarked'] = pd.Categorical(titanic_dataset['Embarked']).codes"
   ]
  },
  {
   "cell_type": "code",
   "execution_count": 37,
   "metadata": {},
   "outputs": [
    {
     "data": {
      "text/html": [
       "<div>\n",
       "<style scoped>\n",
       "    .dataframe tbody tr th:only-of-type {\n",
       "        vertical-align: middle;\n",
       "    }\n",
       "\n",
       "    .dataframe tbody tr th {\n",
       "        vertical-align: top;\n",
       "    }\n",
       "\n",
       "    .dataframe thead th {\n",
       "        text-align: right;\n",
       "    }\n",
       "</style>\n",
       "<table border=\"1\" class=\"dataframe\">\n",
       "  <thead>\n",
       "    <tr style=\"text-align: right;\">\n",
       "      <th></th>\n",
       "      <th>Survived</th>\n",
       "      <th>Pclass</th>\n",
       "      <th>Sex</th>\n",
       "      <th>Age</th>\n",
       "      <th>SibSp</th>\n",
       "      <th>Parch</th>\n",
       "      <th>Fare</th>\n",
       "      <th>Embarked</th>\n",
       "      <th>Title</th>\n",
       "      <th>Members</th>\n",
       "      <th>Alone</th>\n",
       "      <th>n_Age</th>\n",
       "      <th>has_cabin</th>\n",
       "    </tr>\n",
       "  </thead>\n",
       "  <tbody>\n",
       "    <tr>\n",
       "      <td>0</td>\n",
       "      <td>0</td>\n",
       "      <td>3</td>\n",
       "      <td>1</td>\n",
       "      <td>22.0</td>\n",
       "      <td>1</td>\n",
       "      <td>0</td>\n",
       "      <td>7.2500</td>\n",
       "      <td>2</td>\n",
       "      <td>3</td>\n",
       "      <td>1</td>\n",
       "      <td>False</td>\n",
       "      <td>22.0</td>\n",
       "      <td>False</td>\n",
       "    </tr>\n",
       "    <tr>\n",
       "      <td>1</td>\n",
       "      <td>1</td>\n",
       "      <td>1</td>\n",
       "      <td>0</td>\n",
       "      <td>38.0</td>\n",
       "      <td>1</td>\n",
       "      <td>0</td>\n",
       "      <td>71.2833</td>\n",
       "      <td>0</td>\n",
       "      <td>4</td>\n",
       "      <td>1</td>\n",
       "      <td>False</td>\n",
       "      <td>38.0</td>\n",
       "      <td>True</td>\n",
       "    </tr>\n",
       "    <tr>\n",
       "      <td>2</td>\n",
       "      <td>1</td>\n",
       "      <td>3</td>\n",
       "      <td>0</td>\n",
       "      <td>26.0</td>\n",
       "      <td>0</td>\n",
       "      <td>0</td>\n",
       "      <td>7.9250</td>\n",
       "      <td>2</td>\n",
       "      <td>2</td>\n",
       "      <td>0</td>\n",
       "      <td>True</td>\n",
       "      <td>26.0</td>\n",
       "      <td>False</td>\n",
       "    </tr>\n",
       "    <tr>\n",
       "      <td>3</td>\n",
       "      <td>1</td>\n",
       "      <td>1</td>\n",
       "      <td>0</td>\n",
       "      <td>35.0</td>\n",
       "      <td>1</td>\n",
       "      <td>0</td>\n",
       "      <td>53.1000</td>\n",
       "      <td>2</td>\n",
       "      <td>4</td>\n",
       "      <td>1</td>\n",
       "      <td>False</td>\n",
       "      <td>35.0</td>\n",
       "      <td>True</td>\n",
       "    </tr>\n",
       "    <tr>\n",
       "      <td>4</td>\n",
       "      <td>0</td>\n",
       "      <td>3</td>\n",
       "      <td>1</td>\n",
       "      <td>35.0</td>\n",
       "      <td>0</td>\n",
       "      <td>0</td>\n",
       "      <td>8.0500</td>\n",
       "      <td>2</td>\n",
       "      <td>3</td>\n",
       "      <td>0</td>\n",
       "      <td>True</td>\n",
       "      <td>35.0</td>\n",
       "      <td>False</td>\n",
       "    </tr>\n",
       "  </tbody>\n",
       "</table>\n",
       "</div>"
      ],
      "text/plain": [
       "   Survived  Pclass  Sex   Age  SibSp  Parch     Fare  Embarked  Title  \\\n",
       "0         0       3    1  22.0      1      0   7.2500         2      3   \n",
       "1         1       1    0  38.0      1      0  71.2833         0      4   \n",
       "2         1       3    0  26.0      0      0   7.9250         2      2   \n",
       "3         1       1    0  35.0      1      0  53.1000         2      4   \n",
       "4         0       3    1  35.0      0      0   8.0500         2      3   \n",
       "\n",
       "   Members  Alone  n_Age  has_cabin  \n",
       "0        1  False   22.0      False  \n",
       "1        1  False   38.0       True  \n",
       "2        0   True   26.0      False  \n",
       "3        1  False   35.0       True  \n",
       "4        0   True   35.0      False  "
      ]
     },
     "execution_count": 37,
     "metadata": {},
     "output_type": "execute_result"
    }
   ],
   "source": [
    "titanic_dataset.head()\n"
   ]
  },
  {
   "cell_type": "markdown",
   "metadata": {},
   "source": [
    "### We will stop Here. In the next assignment, we will use all of the above features to train Machine Learning Models"
   ]
  },
  {
   "cell_type": "markdown",
   "metadata": {},
   "source": [
    "# Part 2 - Similarity and Dissimilarity Matrix"
   ]
  },
  {
   "cell_type": "markdown",
   "metadata": {},
   "source": [
    "You are given a CSV file that resides in the folder Part 2 having name \"chipotle.csv\""
   ]
  },
  {
   "cell_type": "code",
   "execution_count": 38,
   "metadata": {},
   "outputs": [],
   "source": [
    "data = pd.read_csv(\".\\Part 2\\chipotle.csv\")"
   ]
  },
  {
   "cell_type": "code",
   "execution_count": 39,
   "metadata": {},
   "outputs": [
    {
     "data": {
      "text/html": [
       "<div>\n",
       "<style scoped>\n",
       "    .dataframe tbody tr th:only-of-type {\n",
       "        vertical-align: middle;\n",
       "    }\n",
       "\n",
       "    .dataframe tbody tr th {\n",
       "        vertical-align: top;\n",
       "    }\n",
       "\n",
       "    .dataframe thead th {\n",
       "        text-align: right;\n",
       "    }\n",
       "</style>\n",
       "<table border=\"1\" class=\"dataframe\">\n",
       "  <thead>\n",
       "    <tr style=\"text-align: right;\">\n",
       "      <th></th>\n",
       "      <th>order_id</th>\n",
       "      <th>quantity</th>\n",
       "      <th>item_name</th>\n",
       "      <th>choice_description (consider it as a text document)</th>\n",
       "      <th>item_price</th>\n",
       "      <th>Imported</th>\n",
       "    </tr>\n",
       "  </thead>\n",
       "  <tbody>\n",
       "    <tr>\n",
       "      <td>0</td>\n",
       "      <td>1</td>\n",
       "      <td>1</td>\n",
       "      <td>Chips and Fresh Tomato Salsa</td>\n",
       "      <td>NaN</td>\n",
       "      <td>$2.39</td>\n",
       "      <td>Yes</td>\n",
       "    </tr>\n",
       "    <tr>\n",
       "      <td>1</td>\n",
       "      <td>1</td>\n",
       "      <td>1</td>\n",
       "      <td>Izze</td>\n",
       "      <td>[Clementine]</td>\n",
       "      <td>$3.39</td>\n",
       "      <td>Yes</td>\n",
       "    </tr>\n",
       "    <tr>\n",
       "      <td>2</td>\n",
       "      <td>1</td>\n",
       "      <td>1</td>\n",
       "      <td>Nantucket Nectar</td>\n",
       "      <td>[Apple]</td>\n",
       "      <td>$3.39</td>\n",
       "      <td>Yes</td>\n",
       "    </tr>\n",
       "    <tr>\n",
       "      <td>3</td>\n",
       "      <td>1</td>\n",
       "      <td>1</td>\n",
       "      <td>Chips and Tomatillo-Green Chili Salsa</td>\n",
       "      <td>NaN</td>\n",
       "      <td>$2.39</td>\n",
       "      <td>Yes</td>\n",
       "    </tr>\n",
       "    <tr>\n",
       "      <td>4</td>\n",
       "      <td>2</td>\n",
       "      <td>2</td>\n",
       "      <td>Chicken Bowl</td>\n",
       "      <td>[Tomatillo-Red Chili Salsa (Hot), [Black Beans...</td>\n",
       "      <td>$16.98</td>\n",
       "      <td>Yes</td>\n",
       "    </tr>\n",
       "  </tbody>\n",
       "</table>\n",
       "</div>"
      ],
      "text/plain": [
       "   order_id  quantity                              item_name  \\\n",
       "0         1         1           Chips and Fresh Tomato Salsa   \n",
       "1         1         1                                   Izze   \n",
       "2         1         1                       Nantucket Nectar   \n",
       "3         1         1  Chips and Tomatillo-Green Chili Salsa   \n",
       "4         2         2                           Chicken Bowl   \n",
       "\n",
       "  choice_description (consider it as a text document) item_price Imported  \n",
       "0                                                NaN      $2.39       Yes  \n",
       "1                                       [Clementine]      $3.39       Yes  \n",
       "2                                            [Apple]      $3.39       Yes  \n",
       "3                                                NaN      $2.39       Yes  \n",
       "4  [Tomatillo-Red Chili Salsa (Hot), [Black Beans...     $16.98       Yes  "
      ]
     },
     "execution_count": 39,
     "metadata": {},
     "output_type": "execute_result"
    }
   ],
   "source": [
    "data.head()"
   ]
  },
  {
   "cell_type": "markdown",
   "metadata": {},
   "source": [
    "**You have to do the following tasks.**\n",
    "* Go through the data carefully.\n",
    "* Try to understand its attributes.\n",
    "* You should probably know which type each attribute belongs to. For example, Nominal, Ordinal etc.\n",
    "* You have studied in class to calculate similarity and dissimilarity between different type of attributes.\n",
    "* You have also studied how to calculate similarity btween objects that have attributes of mixed types.\n",
    "* Go through the data carefully and create a Similarity and Dissimilarity matrix of the given dataset.\n",
    "* To calculate the similarity score between two objects, you should write a function and pass two objects as input"
   ]
  },
  {
   "cell_type": "code",
   "execution_count": 40,
   "metadata": {},
   "outputs": [],
   "source": [
    "#Write your code to calculate the similarity matrix and save this matrix as \"Similarity Score.csv\"\n",
    "\n",
    "def similarity_func(u, v):\n",
    "    return 1/(1+euclidean(u,v))\n",
    "data['item_price'] = (data['item_price'].str.replace('$', '')).astype(float)\n"
   ]
  },
  {
   "cell_type": "code",
   "execution_count": 41,
   "metadata": {},
   "outputs": [
    {
     "data": {
      "text/html": [
       "<div>\n",
       "<style scoped>\n",
       "    .dataframe tbody tr th:only-of-type {\n",
       "        vertical-align: middle;\n",
       "    }\n",
       "\n",
       "    .dataframe tbody tr th {\n",
       "        vertical-align: top;\n",
       "    }\n",
       "\n",
       "    .dataframe thead th {\n",
       "        text-align: right;\n",
       "    }\n",
       "</style>\n",
       "<table border=\"1\" class=\"dataframe\">\n",
       "  <thead>\n",
       "    <tr style=\"text-align: right;\">\n",
       "      <th></th>\n",
       "      <th>0</th>\n",
       "      <th>1</th>\n",
       "      <th>2</th>\n",
       "      <th>3</th>\n",
       "      <th>4</th>\n",
       "      <th>5</th>\n",
       "      <th>6</th>\n",
       "      <th>7</th>\n",
       "      <th>8</th>\n",
       "      <th>9</th>\n",
       "      <th>...</th>\n",
       "      <th>183</th>\n",
       "      <th>184</th>\n",
       "      <th>185</th>\n",
       "      <th>186</th>\n",
       "      <th>187</th>\n",
       "      <th>188</th>\n",
       "      <th>189</th>\n",
       "      <th>190</th>\n",
       "      <th>191</th>\n",
       "      <th>192</th>\n",
       "    </tr>\n",
       "  </thead>\n",
       "  <tbody>\n",
       "    <tr>\n",
       "      <td>0</td>\n",
       "      <td>0.000000</td>\n",
       "      <td>0.500000</td>\n",
       "      <td>0.500000</td>\n",
       "      <td>1.000000</td>\n",
       "      <td>0.063864</td>\n",
       "      <td>0.101836</td>\n",
       "      <td>0.320619</td>\n",
       "      <td>0.092344</td>\n",
       "      <td>0.117823</td>\n",
       "      <td>0.111844</td>\n",
       "      <td>...</td>\n",
       "      <td>0.012195</td>\n",
       "      <td>0.012007</td>\n",
       "      <td>0.012044</td>\n",
       "      <td>0.011979</td>\n",
       "      <td>0.011835</td>\n",
       "      <td>0.011873</td>\n",
       "      <td>0.011873</td>\n",
       "      <td>0.011729</td>\n",
       "      <td>0.011765</td>\n",
       "      <td>0.011566</td>\n",
       "    </tr>\n",
       "    <tr>\n",
       "      <td>1</td>\n",
       "      <td>0.500000</td>\n",
       "      <td>0.000000</td>\n",
       "      <td>1.000000</td>\n",
       "      <td>0.500000</td>\n",
       "      <td>0.068197</td>\n",
       "      <td>0.113006</td>\n",
       "      <td>0.275871</td>\n",
       "      <td>0.101194</td>\n",
       "      <td>0.131869</td>\n",
       "      <td>0.123532</td>\n",
       "      <td>...</td>\n",
       "      <td>0.012195</td>\n",
       "      <td>0.012018</td>\n",
       "      <td>0.012047</td>\n",
       "      <td>0.011994</td>\n",
       "      <td>0.011849</td>\n",
       "      <td>0.011883</td>\n",
       "      <td>0.011883</td>\n",
       "      <td>0.011739</td>\n",
       "      <td>0.011764</td>\n",
       "      <td>0.011579</td>\n",
       "    </tr>\n",
       "    <tr>\n",
       "      <td>2</td>\n",
       "      <td>0.500000</td>\n",
       "      <td>1.000000</td>\n",
       "      <td>0.000000</td>\n",
       "      <td>0.500000</td>\n",
       "      <td>0.068197</td>\n",
       "      <td>0.113006</td>\n",
       "      <td>0.275871</td>\n",
       "      <td>0.101194</td>\n",
       "      <td>0.131869</td>\n",
       "      <td>0.123532</td>\n",
       "      <td>...</td>\n",
       "      <td>0.012195</td>\n",
       "      <td>0.012018</td>\n",
       "      <td>0.012047</td>\n",
       "      <td>0.011994</td>\n",
       "      <td>0.011849</td>\n",
       "      <td>0.011883</td>\n",
       "      <td>0.011883</td>\n",
       "      <td>0.011739</td>\n",
       "      <td>0.011764</td>\n",
       "      <td>0.011579</td>\n",
       "    </tr>\n",
       "    <tr>\n",
       "      <td>3</td>\n",
       "      <td>1.000000</td>\n",
       "      <td>0.500000</td>\n",
       "      <td>0.500000</td>\n",
       "      <td>0.000000</td>\n",
       "      <td>0.063864</td>\n",
       "      <td>0.101836</td>\n",
       "      <td>0.320619</td>\n",
       "      <td>0.092344</td>\n",
       "      <td>0.117823</td>\n",
       "      <td>0.111844</td>\n",
       "      <td>...</td>\n",
       "      <td>0.012195</td>\n",
       "      <td>0.012007</td>\n",
       "      <td>0.012044</td>\n",
       "      <td>0.011979</td>\n",
       "      <td>0.011835</td>\n",
       "      <td>0.011873</td>\n",
       "      <td>0.011873</td>\n",
       "      <td>0.011729</td>\n",
       "      <td>0.011765</td>\n",
       "      <td>0.011566</td>\n",
       "    </tr>\n",
       "    <tr>\n",
       "      <td>4</td>\n",
       "      <td>0.063864</td>\n",
       "      <td>0.068197</td>\n",
       "      <td>0.068197</td>\n",
       "      <td>0.063864</td>\n",
       "      <td>0.000000</td>\n",
       "      <td>0.139579</td>\n",
       "      <td>0.061142</td>\n",
       "      <td>0.149522</td>\n",
       "      <td>0.110535</td>\n",
       "      <td>0.106931</td>\n",
       "      <td>...</td>\n",
       "      <td>0.012161</td>\n",
       "      <td>0.012140</td>\n",
       "      <td>0.012053</td>\n",
       "      <td>0.012164</td>\n",
       "      <td>0.012021</td>\n",
       "      <td>0.011984</td>\n",
       "      <td>0.011984</td>\n",
       "      <td>0.011850</td>\n",
       "      <td>0.011726</td>\n",
       "      <td>0.011737</td>\n",
       "    </tr>\n",
       "  </tbody>\n",
       "</table>\n",
       "<p>5 rows × 193 columns</p>\n",
       "</div>"
      ],
      "text/plain": [
       "        0         1         2         3         4         5         6    \\\n",
       "0  0.000000  0.500000  0.500000  1.000000  0.063864  0.101836  0.320619   \n",
       "1  0.500000  0.000000  1.000000  0.500000  0.068197  0.113006  0.275871   \n",
       "2  0.500000  1.000000  0.000000  0.500000  0.068197  0.113006  0.275871   \n",
       "3  1.000000  0.500000  0.500000  0.000000  0.063864  0.101836  0.320619   \n",
       "4  0.063864  0.068197  0.068197  0.063864  0.000000  0.139579  0.061142   \n",
       "\n",
       "        7         8         9    ...       183       184       185       186  \\\n",
       "0  0.092344  0.117823  0.111844  ...  0.012195  0.012007  0.012044  0.011979   \n",
       "1  0.101194  0.131869  0.123532  ...  0.012195  0.012018  0.012047  0.011994   \n",
       "2  0.101194  0.131869  0.123532  ...  0.012195  0.012018  0.012047  0.011994   \n",
       "3  0.092344  0.117823  0.111844  ...  0.012195  0.012007  0.012044  0.011979   \n",
       "4  0.149522  0.110535  0.106931  ...  0.012161  0.012140  0.012053  0.012164   \n",
       "\n",
       "        187       188       189       190       191       192  \n",
       "0  0.011835  0.011873  0.011873  0.011729  0.011765  0.011566  \n",
       "1  0.011849  0.011883  0.011883  0.011739  0.011764  0.011579  \n",
       "2  0.011849  0.011883  0.011883  0.011739  0.011764  0.011579  \n",
       "3  0.011835  0.011873  0.011873  0.011729  0.011765  0.011566  \n",
       "4  0.012021  0.011984  0.011984  0.011850  0.011726  0.011737  \n",
       "\n",
       "[5 rows x 193 columns]"
      ]
     },
     "execution_count": 41,
     "metadata": {},
     "output_type": "execute_result"
    }
   ],
   "source": [
    "\n",
    "dists = pdist(data[['order_id','quantity','item_price']], similarity_func)\n",
    "Similarity_DF = pd.DataFrame(squareform(dists), columns=data.index, index=data.index)\n",
    "Similarity_DF.to_csv('Similarity Score.csv')\n",
    "\n",
    "Similarity_DF.head()"
   ]
  },
  {
   "cell_type": "code",
   "execution_count": 42,
   "metadata": {},
   "outputs": [
    {
     "data": {
      "text/html": [
       "<div>\n",
       "<style scoped>\n",
       "    .dataframe tbody tr th:only-of-type {\n",
       "        vertical-align: middle;\n",
       "    }\n",
       "\n",
       "    .dataframe tbody tr th {\n",
       "        vertical-align: top;\n",
       "    }\n",
       "\n",
       "    .dataframe thead th {\n",
       "        text-align: right;\n",
       "    }\n",
       "</style>\n",
       "<table border=\"1\" class=\"dataframe\">\n",
       "  <thead>\n",
       "    <tr style=\"text-align: right;\">\n",
       "      <th></th>\n",
       "      <th>0</th>\n",
       "      <th>1</th>\n",
       "      <th>2</th>\n",
       "      <th>3</th>\n",
       "      <th>4</th>\n",
       "      <th>5</th>\n",
       "      <th>6</th>\n",
       "      <th>7</th>\n",
       "      <th>8</th>\n",
       "      <th>9</th>\n",
       "      <th>...</th>\n",
       "      <th>183</th>\n",
       "      <th>184</th>\n",
       "      <th>185</th>\n",
       "      <th>186</th>\n",
       "      <th>187</th>\n",
       "      <th>188</th>\n",
       "      <th>189</th>\n",
       "      <th>190</th>\n",
       "      <th>191</th>\n",
       "      <th>192</th>\n",
       "    </tr>\n",
       "  </thead>\n",
       "  <tbody>\n",
       "    <tr>\n",
       "      <td>0</td>\n",
       "      <td>0.00000</td>\n",
       "      <td>1.000000</td>\n",
       "      <td>1.000000</td>\n",
       "      <td>0.00000</td>\n",
       "      <td>14.658380</td>\n",
       "      <td>8.819756</td>\n",
       "      <td>2.118962</td>\n",
       "      <td>9.829018</td>\n",
       "      <td>7.487296</td>\n",
       "      <td>7.941007</td>\n",
       "      <td>...</td>\n",
       "      <td>81.001936</td>\n",
       "      <td>82.286448</td>\n",
       "      <td>82.025872</td>\n",
       "      <td>82.477267</td>\n",
       "      <td>83.496276</td>\n",
       "      <td>83.223855</td>\n",
       "      <td>83.223855</td>\n",
       "      <td>84.258887</td>\n",
       "      <td>84.000000</td>\n",
       "      <td>85.460515</td>\n",
       "    </tr>\n",
       "    <tr>\n",
       "      <td>1</td>\n",
       "      <td>1.00000</td>\n",
       "      <td>0.000000</td>\n",
       "      <td>0.000000</td>\n",
       "      <td>1.00000</td>\n",
       "      <td>13.663385</td>\n",
       "      <td>7.849083</td>\n",
       "      <td>2.624881</td>\n",
       "      <td>8.881982</td>\n",
       "      <td>6.583282</td>\n",
       "      <td>7.095041</td>\n",
       "      <td>...</td>\n",
       "      <td>81.001195</td>\n",
       "      <td>82.209121</td>\n",
       "      <td>82.006851</td>\n",
       "      <td>82.375844</td>\n",
       "      <td>83.393334</td>\n",
       "      <td>83.156539</td>\n",
       "      <td>83.156539</td>\n",
       "      <td>84.186460</td>\n",
       "      <td>84.005952</td>\n",
       "      <td>85.362636</td>\n",
       "    </tr>\n",
       "    <tr>\n",
       "      <td>2</td>\n",
       "      <td>1.00000</td>\n",
       "      <td>0.000000</td>\n",
       "      <td>0.000000</td>\n",
       "      <td>1.00000</td>\n",
       "      <td>13.663385</td>\n",
       "      <td>7.849083</td>\n",
       "      <td>2.624881</td>\n",
       "      <td>8.881982</td>\n",
       "      <td>6.583282</td>\n",
       "      <td>7.095041</td>\n",
       "      <td>...</td>\n",
       "      <td>81.001195</td>\n",
       "      <td>82.209121</td>\n",
       "      <td>82.006851</td>\n",
       "      <td>82.375844</td>\n",
       "      <td>83.393334</td>\n",
       "      <td>83.156539</td>\n",
       "      <td>83.156539</td>\n",
       "      <td>84.186460</td>\n",
       "      <td>84.005952</td>\n",
       "      <td>85.362636</td>\n",
       "    </tr>\n",
       "    <tr>\n",
       "      <td>3</td>\n",
       "      <td>0.00000</td>\n",
       "      <td>1.000000</td>\n",
       "      <td>1.000000</td>\n",
       "      <td>0.00000</td>\n",
       "      <td>14.658380</td>\n",
       "      <td>8.819756</td>\n",
       "      <td>2.118962</td>\n",
       "      <td>9.829018</td>\n",
       "      <td>7.487296</td>\n",
       "      <td>7.941007</td>\n",
       "      <td>...</td>\n",
       "      <td>81.001936</td>\n",
       "      <td>82.286448</td>\n",
       "      <td>82.025872</td>\n",
       "      <td>82.477267</td>\n",
       "      <td>83.496276</td>\n",
       "      <td>83.223855</td>\n",
       "      <td>83.223855</td>\n",
       "      <td>84.258887</td>\n",
       "      <td>84.000000</td>\n",
       "      <td>85.460515</td>\n",
       "    </tr>\n",
       "    <tr>\n",
       "      <td>4</td>\n",
       "      <td>14.65838</td>\n",
       "      <td>13.663385</td>\n",
       "      <td>13.663385</td>\n",
       "      <td>14.65838</td>\n",
       "      <td>0.000000</td>\n",
       "      <td>6.164414</td>\n",
       "      <td>15.355263</td>\n",
       "      <td>5.687961</td>\n",
       "      <td>8.046919</td>\n",
       "      <td>8.351820</td>\n",
       "      <td>...</td>\n",
       "      <td>81.227095</td>\n",
       "      <td>81.374154</td>\n",
       "      <td>81.969512</td>\n",
       "      <td>81.208577</td>\n",
       "      <td>82.190328</td>\n",
       "      <td>82.444406</td>\n",
       "      <td>82.444406</td>\n",
       "      <td>83.389688</td>\n",
       "      <td>84.278515</td>\n",
       "      <td>84.201145</td>\n",
       "    </tr>\n",
       "  </tbody>\n",
       "</table>\n",
       "<p>5 rows × 193 columns</p>\n",
       "</div>"
      ],
      "text/plain": [
       "        0          1          2         3          4         5          6    \\\n",
       "0   0.00000   1.000000   1.000000   0.00000  14.658380  8.819756   2.118962   \n",
       "1   1.00000   0.000000   0.000000   1.00000  13.663385  7.849083   2.624881   \n",
       "2   1.00000   0.000000   0.000000   1.00000  13.663385  7.849083   2.624881   \n",
       "3   0.00000   1.000000   1.000000   0.00000  14.658380  8.819756   2.118962   \n",
       "4  14.65838  13.663385  13.663385  14.65838   0.000000  6.164414  15.355263   \n",
       "\n",
       "        7         8         9    ...        183        184        185  \\\n",
       "0  9.829018  7.487296  7.941007  ...  81.001936  82.286448  82.025872   \n",
       "1  8.881982  6.583282  7.095041  ...  81.001195  82.209121  82.006851   \n",
       "2  8.881982  6.583282  7.095041  ...  81.001195  82.209121  82.006851   \n",
       "3  9.829018  7.487296  7.941007  ...  81.001936  82.286448  82.025872   \n",
       "4  5.687961  8.046919  8.351820  ...  81.227095  81.374154  81.969512   \n",
       "\n",
       "         186        187        188        189        190        191        192  \n",
       "0  82.477267  83.496276  83.223855  83.223855  84.258887  84.000000  85.460515  \n",
       "1  82.375844  83.393334  83.156539  83.156539  84.186460  84.005952  85.362636  \n",
       "2  82.375844  83.393334  83.156539  83.156539  84.186460  84.005952  85.362636  \n",
       "3  82.477267  83.496276  83.223855  83.223855  84.258887  84.000000  85.460515  \n",
       "4  81.208577  82.190328  82.444406  82.444406  83.389688  84.278515  84.201145  \n",
       "\n",
       "[5 rows x 193 columns]"
      ]
     },
     "execution_count": 42,
     "metadata": {},
     "output_type": "execute_result"
    }
   ],
   "source": [
    "#Write your code to calculate the dissimilarity matrix and save this matrix as \"Dissimilarity Score.csv\"\n",
    "\n",
    "dists = pdist(data[['order_id','quantity','item_price']], euclidean)\n",
    "\n",
    "Dis_Df = pd.DataFrame(squareform(dists), columns=data.index, index=data.index)\n",
    "Dis_Df.to_csv('Dissimilarity Score.csv')\n",
    "\n",
    "Dis_Df.head()"
   ]
  },
  {
   "cell_type": "markdown",
   "metadata": {},
   "source": [
    "#### Feedback"
   ]
  },
  {
   "cell_type": "markdown",
   "metadata": {},
   "source": [
    "Dear participant, \n",
    "\n",
    "Please provide an honest and constructive feedback for the above test.\n",
    "\n",
    "Was it helpful?\n",
    "\n",
    "Was the time enough?\n",
    "\n",
    "Was it challenging?\n",
    "\n",
    "Did you learn something out of it?\n",
    "\n",
    "Did you had problem understanding the notebook?\n",
    "\n",
    "If there was something ambiguous. Please report.\n",
    "\n",
    "What improvements do you suggest?\n",
    "\n",
    "Any other comments you would like to add?\n"
   ]
  },
  {
   "cell_type": "code",
   "execution_count": 43,
   "metadata": {},
   "outputs": [],
   "source": [
    "###\n",
    "### Please provide your feedback in here\n",
    "###"
   ]
  },
  {
   "cell_type": "markdown",
   "metadata": {},
   "source": [
    "#### Conclusion"
   ]
  },
  {
   "cell_type": "markdown",
   "metadata": {},
   "source": [
    "* This was an introductory notebook to real world data science problems.\n",
    "* We skipped some concepts but will go through them in future.\n",
    "* However, if you have reached so far. **Great Work!!!**\n",
    "<br><br>\n",
    "<img src=\"img/great-work.jpg\">\n"
   ]
  },
  {
   "cell_type": "markdown",
   "metadata": {},
   "source": [
    "#### References"
   ]
  },
  {
   "cell_type": "markdown",
   "metadata": {},
   "source": [
    "[1] https://www.ibm.com/developerworks/library/ba-intro-data-science-1/index.html\n",
    "<br>\n",
    "[2] http://ml-cheatsheet.readthedocs.io/en/latest/logistic_regression.html\n",
    "<br>\n",
    "[3] https://medium.com/ibm-data-science-experience/markdown-for-jupyter-notebooks-cheatsheet-386c05aeebed\n",
    "<br>\n",
    "[4] Tan, Pang-Ning. Introduction to data mining. Pearson Education India, 2006.\n",
    "<br>\n",
    "[5] T. Hastie, R. Tibshirani and J. Friedman. Elements of Statistical Learning, Springer, 2009.\n",
    "<br>\n",
    "[6] http://scikit-learn.org/stable/modules/tree.html\n",
    "<br>\n",
    "[7] J.R. Quinlan. C4. 5: programs for machine learning. Morgan Kaufmann, 1993.\n",
    "<br>\n",
    "[8] L. Breiman, J. Friedman, R. Olshen, and C. Stone. Classification and Regression Trees. Wadsworth, Belmont, CA, 1984.\n",
    "<br>\n",
    "[9] http://scikit-learn.org/stable/modules/generated/sklearn.tree.DecisionTreeClassifier.html\n",
    "<br>\n",
    "[10] http://scikit-learn.org/stable/modules/generated/sklearn.linear_model.LogisticRegression.html\n",
    "<br>\n",
    "[11] http://scikit-learn.org/stable/modules/generated/sklearn.model_selection.train_test_split.html\n",
    "<br>\n",
    "[12] https://matplotlib.org/contents.html\n",
    "<br>\n",
    "[13] https://docs.scipy.org/doc/numpy/reference/index.html\n",
    "<br>\n",
    "[14] http://pandas.pydata.org/pandas-docs/stable/\n",
    "<br>\n",
    "[15] http://scikit-learn.org/stable/modules/generated/sklearn.metrics.accuracy_score.html"
   ]
  },
  {
   "cell_type": "markdown",
   "metadata": {},
   "source": [
    "In case of any issue, please e-mail at the following email addresses:\n",
    "\n",
    "* MSDS18006@ITU.EDU.PK\n",
    "* MSDS18008@ITU.EDU.PK\n",
    "* MSDS18041@ITU.EDU.PK"
   ]
  },
  {
   "cell_type": "code",
   "execution_count": null,
   "metadata": {},
   "outputs": [],
   "source": []
  }
 ],
 "metadata": {
  "kernelspec": {
   "display_name": "Python 3",
   "language": "python",
   "name": "python3"
  },
  "language_info": {
   "codemirror_mode": {
    "name": "ipython",
    "version": 3
   },
   "file_extension": ".py",
   "mimetype": "text/x-python",
   "name": "python",
   "nbconvert_exporter": "python",
   "pygments_lexer": "ipython3",
   "version": "3.7.1"
  }
 },
 "nbformat": 4,
 "nbformat_minor": 2
}
